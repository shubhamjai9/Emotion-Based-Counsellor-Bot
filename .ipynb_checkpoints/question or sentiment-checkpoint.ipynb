{
 "cells": [
  {
   "cell_type": "code",
   "execution_count": 1,
   "metadata": {},
   "outputs": [],
   "source": [
    "import spacy\n",
    "import numpy as np\n",
    "import pandas as pd\n",
    "from stopwords import ENGLISH_STOP_WORDS\n",
    "# from __future__ import unicode_literals\n",
    "import warnings\n",
    "warnings.filterwarnings(\"ignore\", category=DeprecationWarning)\n"
   ]
  },
  {
   "cell_type": "code",
   "execution_count": 2,
   "metadata": {},
   "outputs": [],
   "source": [
    "en_nlp = spacy.load('en')"
   ]
  },
  {
   "cell_type": "code",
   "execution_count": 3,
   "metadata": {},
   "outputs": [],
   "source": [
    "def spacy_get_vec(sentence):\n",
    "    vec = np.zeros(96)\n",
    "    doc = en_nlp((sentence))\n",
    "    for word in doc:\n",
    "        #if word.lower_ in ENGLISH_STOP_WORDS:\n",
    "        #    continue\n",
    "        vec += word.vector\n",
    "    return vec"
   ]
  },
  {
   "cell_type": "code",
   "execution_count": 4,
   "metadata": {},
   "outputs": [],
   "source": [
    "lines = open('./is_question.txt').readlines()\n",
    "vecs = []\n",
    "intents = []\n",
    "idfs = []\n",
    "for line in lines:\n",
    "    tokens = line.split(',')\n",
    "    sentence = tokens[0]\n",
    "    intent = tokens[1]\n",
    "    if intent[-1] == '\\n':\n",
    "        intent = intent[:-1]\n",
    "    vecs.append(spacy_get_vec(sentence))\n",
    "    intents.append(intent)\n",
    "\n",
    "df = pd.DataFrame(vecs, columns=['vec_%d' % i for i in range(96)])\n",
    "df['intents'] = intents\n",
    "df.intents = df.intents.astype('category')"
   ]
  },
  {
   "cell_type": "code",
   "execution_count": 5,
   "metadata": {},
   "outputs": [],
   "source": [
    "from sklearn.utils import shuffle\n",
    "df = shuffle(df)"
   ]
  },
  {
   "cell_type": "code",
   "execution_count": 6,
   "metadata": {},
   "outputs": [
    {
     "data": {
      "text/html": [
       "<div>\n",
       "<style scoped>\n",
       "    .dataframe tbody tr th:only-of-type {\n",
       "        vertical-align: middle;\n",
       "    }\n",
       "\n",
       "    .dataframe tbody tr th {\n",
       "        vertical-align: top;\n",
       "    }\n",
       "\n",
       "    .dataframe thead th {\n",
       "        text-align: right;\n",
       "    }\n",
       "</style>\n",
       "<table border=\"1\" class=\"dataframe\">\n",
       "  <thead>\n",
       "    <tr style=\"text-align: right;\">\n",
       "      <th></th>\n",
       "      <th>vec_0</th>\n",
       "      <th>vec_1</th>\n",
       "      <th>vec_2</th>\n",
       "      <th>vec_3</th>\n",
       "      <th>vec_4</th>\n",
       "      <th>vec_5</th>\n",
       "      <th>vec_6</th>\n",
       "      <th>vec_7</th>\n",
       "      <th>vec_8</th>\n",
       "      <th>vec_9</th>\n",
       "      <th>...</th>\n",
       "      <th>vec_87</th>\n",
       "      <th>vec_88</th>\n",
       "      <th>vec_89</th>\n",
       "      <th>vec_90</th>\n",
       "      <th>vec_91</th>\n",
       "      <th>vec_92</th>\n",
       "      <th>vec_93</th>\n",
       "      <th>vec_94</th>\n",
       "      <th>vec_95</th>\n",
       "      <th>intents</th>\n",
       "    </tr>\n",
       "  </thead>\n",
       "  <tbody>\n",
       "    <tr>\n",
       "      <th>144</th>\n",
       "      <td>7.693374</td>\n",
       "      <td>-4.425190</td>\n",
       "      <td>10.370076</td>\n",
       "      <td>-8.059266</td>\n",
       "      <td>-6.715349</td>\n",
       "      <td>5.353402</td>\n",
       "      <td>-2.543957</td>\n",
       "      <td>-3.710457</td>\n",
       "      <td>1.941995</td>\n",
       "      <td>12.817253</td>\n",
       "      <td>...</td>\n",
       "      <td>-13.698405</td>\n",
       "      <td>3.170844</td>\n",
       "      <td>6.462161</td>\n",
       "      <td>-5.732632</td>\n",
       "      <td>-2.501776</td>\n",
       "      <td>14.463405</td>\n",
       "      <td>-6.847696</td>\n",
       "      <td>3.601706</td>\n",
       "      <td>0.969412</td>\n",
       "      <td>question</td>\n",
       "    </tr>\n",
       "    <tr>\n",
       "      <th>71</th>\n",
       "      <td>3.278343</td>\n",
       "      <td>-1.675798</td>\n",
       "      <td>2.725453</td>\n",
       "      <td>-2.183201</td>\n",
       "      <td>2.442451</td>\n",
       "      <td>0.639979</td>\n",
       "      <td>-0.944620</td>\n",
       "      <td>-0.534458</td>\n",
       "      <td>-3.375728</td>\n",
       "      <td>1.780514</td>\n",
       "      <td>...</td>\n",
       "      <td>-0.362511</td>\n",
       "      <td>5.803208</td>\n",
       "      <td>-1.636521</td>\n",
       "      <td>-0.631588</td>\n",
       "      <td>3.263864</td>\n",
       "      <td>1.444387</td>\n",
       "      <td>0.279575</td>\n",
       "      <td>-2.825133</td>\n",
       "      <td>5.470883</td>\n",
       "      <td>sentiment</td>\n",
       "    </tr>\n",
       "    <tr>\n",
       "      <th>75</th>\n",
       "      <td>-0.091077</td>\n",
       "      <td>-1.676832</td>\n",
       "      <td>6.234412</td>\n",
       "      <td>-2.988006</td>\n",
       "      <td>-3.437320</td>\n",
       "      <td>5.952391</td>\n",
       "      <td>-0.241372</td>\n",
       "      <td>-1.364574</td>\n",
       "      <td>1.897492</td>\n",
       "      <td>4.432281</td>\n",
       "      <td>...</td>\n",
       "      <td>-3.514902</td>\n",
       "      <td>1.312641</td>\n",
       "      <td>4.867523</td>\n",
       "      <td>-0.994885</td>\n",
       "      <td>2.009481</td>\n",
       "      <td>0.795232</td>\n",
       "      <td>-2.636366</td>\n",
       "      <td>-0.286786</td>\n",
       "      <td>-3.103258</td>\n",
       "      <td>sentiment</td>\n",
       "    </tr>\n",
       "    <tr>\n",
       "      <th>11</th>\n",
       "      <td>5.669478</td>\n",
       "      <td>-5.065109</td>\n",
       "      <td>-0.989023</td>\n",
       "      <td>-0.689991</td>\n",
       "      <td>7.991487</td>\n",
       "      <td>6.222493</td>\n",
       "      <td>15.764335</td>\n",
       "      <td>-6.990608</td>\n",
       "      <td>-9.586330</td>\n",
       "      <td>5.690118</td>\n",
       "      <td>...</td>\n",
       "      <td>-0.133917</td>\n",
       "      <td>8.808730</td>\n",
       "      <td>1.231520</td>\n",
       "      <td>-0.333365</td>\n",
       "      <td>1.899144</td>\n",
       "      <td>-3.473238</td>\n",
       "      <td>-4.665623</td>\n",
       "      <td>-8.717071</td>\n",
       "      <td>9.846305</td>\n",
       "      <td>sentiment</td>\n",
       "    </tr>\n",
       "    <tr>\n",
       "      <th>65</th>\n",
       "      <td>-1.978794</td>\n",
       "      <td>-0.953607</td>\n",
       "      <td>-3.321292</td>\n",
       "      <td>-2.197667</td>\n",
       "      <td>3.180284</td>\n",
       "      <td>1.942628</td>\n",
       "      <td>1.725907</td>\n",
       "      <td>-0.902973</td>\n",
       "      <td>-0.098377</td>\n",
       "      <td>-0.716015</td>\n",
       "      <td>...</td>\n",
       "      <td>2.659779</td>\n",
       "      <td>2.615698</td>\n",
       "      <td>0.753646</td>\n",
       "      <td>3.109646</td>\n",
       "      <td>2.798889</td>\n",
       "      <td>0.515412</td>\n",
       "      <td>-2.441212</td>\n",
       "      <td>3.466424</td>\n",
       "      <td>-0.745764</td>\n",
       "      <td>sentiment</td>\n",
       "    </tr>\n",
       "  </tbody>\n",
       "</table>\n",
       "<p>5 rows × 97 columns</p>\n",
       "</div>"
      ],
      "text/plain": [
       "        vec_0     vec_1      vec_2     vec_3     vec_4     vec_5      vec_6  \\\n",
       "144  7.693374 -4.425190  10.370076 -8.059266 -6.715349  5.353402  -2.543957   \n",
       "71   3.278343 -1.675798   2.725453 -2.183201  2.442451  0.639979  -0.944620   \n",
       "75  -0.091077 -1.676832   6.234412 -2.988006 -3.437320  5.952391  -0.241372   \n",
       "11   5.669478 -5.065109  -0.989023 -0.689991  7.991487  6.222493  15.764335   \n",
       "65  -1.978794 -0.953607  -3.321292 -2.197667  3.180284  1.942628   1.725907   \n",
       "\n",
       "        vec_7     vec_8      vec_9  ...     vec_87    vec_88    vec_89  \\\n",
       "144 -3.710457  1.941995  12.817253  ... -13.698405  3.170844  6.462161   \n",
       "71  -0.534458 -3.375728   1.780514  ...  -0.362511  5.803208 -1.636521   \n",
       "75  -1.364574  1.897492   4.432281  ...  -3.514902  1.312641  4.867523   \n",
       "11  -6.990608 -9.586330   5.690118  ...  -0.133917  8.808730  1.231520   \n",
       "65  -0.902973 -0.098377  -0.716015  ...   2.659779  2.615698  0.753646   \n",
       "\n",
       "       vec_90    vec_91     vec_92    vec_93    vec_94    vec_95    intents  \n",
       "144 -5.732632 -2.501776  14.463405 -6.847696  3.601706  0.969412   question  \n",
       "71  -0.631588  3.263864   1.444387  0.279575 -2.825133  5.470883  sentiment  \n",
       "75  -0.994885  2.009481   0.795232 -2.636366 -0.286786 -3.103258  sentiment  \n",
       "11  -0.333365  1.899144  -3.473238 -4.665623 -8.717071  9.846305  sentiment  \n",
       "65   3.109646  2.798889   0.515412 -2.441212  3.466424 -0.745764  sentiment  \n",
       "\n",
       "[5 rows x 97 columns]"
      ]
     },
     "execution_count": 6,
     "metadata": {},
     "output_type": "execute_result"
    }
   ],
   "source": [
    "df.head()"
   ]
  },
  {
   "cell_type": "code",
   "execution_count": 7,
   "metadata": {},
   "outputs": [],
   "source": [
    "X = df.iloc[:, :-1].values\n",
    "y = df.iloc[:,-1:].values.ravel()"
   ]
  },
  {
   "cell_type": "code",
   "execution_count": 8,
   "metadata": {},
   "outputs": [],
   "source": [
    "from sklearn.model_selection import train_test_split\n",
    "X_train,X_val,y_train,y_val = train_test_split(X, y, test_size=0.20)"
   ]
  },
  {
   "cell_type": "code",
   "execution_count": 9,
   "metadata": {},
   "outputs": [
    {
     "name": "stderr",
     "output_type": "stream",
     "text": [
      "/home/vidooly/shubham/nlp_env/lib/python3.5/site-packages/sklearn/linear_model/logistic.py:433: FutureWarning: Default solver will be changed to 'lbfgs' in 0.22. Specify a solver to silence this warning.\n",
      "  FutureWarning)\n"
     ]
    },
    {
     "data": {
      "text/plain": [
       "LogisticRegression(C=1.0, class_weight={'sentiment': 1.05, 'question': 0.95},\n",
       "          dual=False, fit_intercept=True, intercept_scaling=1,\n",
       "          max_iter=100, multi_class='warn', n_jobs=None, penalty='l2',\n",
       "          random_state=None, solver='warn', tol=0.0001, verbose=0,\n",
       "          warm_start=False)"
      ]
     },
     "execution_count": 9,
     "metadata": {},
     "output_type": "execute_result"
    }
   ],
   "source": [
    "from sklearn.linear_model import LogisticRegression\n",
    "logit_model = LogisticRegression(class_weight={'question':0.95,'sentiment':1.05})\n",
    "logit_model.fit(X_train, y_train)"
   ]
  },
  {
   "cell_type": "code",
   "execution_count": 10,
   "metadata": {},
   "outputs": [
    {
     "name": "stdout",
     "output_type": "stream",
     "text": [
      "1.0\n",
      "0.9354838709677419\n"
     ]
    }
   ],
   "source": [
    "print(logit_model.score(X_train, y_train))\n",
    "print(logit_model.score(X_val, y_val))"
   ]
  },
  {
   "cell_type": "code",
   "execution_count": 12,
   "metadata": {},
   "outputs": [
    {
     "name": "stdout",
     "output_type": "stream",
     "text": [
      "[[0.01991578 0.98008422]]\n",
      "['sentiment']\n"
     ]
    }
   ],
   "source": [
    "sent = 'i forgot your name'\n",
    "print(logit_model.predict_proba([spacy_get_vec(sent)]))\n",
    "print(logit_model.predict([spacy_get_vec(sent)]))"
   ]
  },
  {
   "cell_type": "code",
   "execution_count": 13,
   "metadata": {},
   "outputs": [],
   "source": [
    "from sklearn.ensemble import GradientBoostingClassifier\n",
    "gradboost = GradientBoostingClassifier(n_estimators=500, max_depth=25)"
   ]
  },
  {
   "cell_type": "code",
   "execution_count": 14,
   "metadata": {},
   "outputs": [
    {
     "name": "stdout",
     "output_type": "stream",
     "text": [
      "1.0\n",
      "0.8064516129032258\n"
     ]
    }
   ],
   "source": [
    "gradboost.fit(X_train, y_train)\n",
    "print(gradboost.score(X_train, y_train))\n",
    "print(gradboost.score(X_val, y_val))"
   ]
  },
  {
   "cell_type": "code",
   "execution_count": 15,
   "metadata": {},
   "outputs": [
    {
     "data": {
      "text/plain": [
       "array(['sentiment'], dtype=object)"
      ]
     },
     "execution_count": 15,
     "metadata": {},
     "output_type": "execute_result"
    }
   ],
   "source": [
    "sent = 'i am feeling very happy'\n",
    "gradboost.predict([spacy_get_vec(sent)])"
   ]
  },
  {
   "cell_type": "code",
   "execution_count": 17,
   "metadata": {},
   "outputs": [
    {
     "data": {
      "text/plain": [
       "array(['sentiment'], dtype=object)"
      ]
     },
     "execution_count": 17,
     "metadata": {},
     "output_type": "execute_result"
    }
   ],
   "source": [
    "sent = 'i think i forgot your name'\n",
    "gradboost.predict([spacy_get_vec(sent)])"
   ]
  },
  {
   "cell_type": "code",
   "execution_count": 22,
   "metadata": {},
   "outputs": [
    {
     "data": {
      "text/plain": [
       "SVC(C=0.3, cache_size=200, class_weight=None, coef0=0.0,\n",
       "  decision_function_shape='ovr', degree=3, gamma='auto_deprecated',\n",
       "  kernel='linear', max_iter=-1, probability=False, random_state=None,\n",
       "  shrinking=True, tol=0.001, verbose=False)"
      ]
     },
     "execution_count": 22,
     "metadata": {},
     "output_type": "execute_result"
    }
   ],
   "source": [
    "from sklearn.svm import SVC\n",
    "svc = SVC(kernel='linear',C=0.3)\n",
    "svc.fit(X_train, y_train)"
   ]
  },
  {
   "cell_type": "code",
   "execution_count": 23,
   "metadata": {},
   "outputs": [
    {
     "name": "stdout",
     "output_type": "stream",
     "text": [
      "1.0\n",
      "0.8387096774193549\n"
     ]
    }
   ],
   "source": [
    "print(svc.score(X_train, y_train))\n",
    "print(svc.score(X_val, y_val))"
   ]
  },
  {
   "cell_type": "code",
   "execution_count": 24,
   "metadata": {},
   "outputs": [
    {
     "data": {
      "text/plain": [
       "array(['question'], dtype=object)"
      ]
     },
     "execution_count": 24,
     "metadata": {},
     "output_type": "execute_result"
    }
   ],
   "source": [
    "sent = 'do you live in France'\n",
    "svc.predict([spacy_get_vec(sent)])"
   ]
  },
  {
   "cell_type": "code",
   "execution_count": 25,
   "metadata": {},
   "outputs": [
    {
     "data": {
      "text/plain": [
       "array(['question'], dtype=object)"
      ]
     },
     "execution_count": 25,
     "metadata": {},
     "output_type": "execute_result"
    }
   ],
   "source": [
    "sent = 'my name is Batman'\n",
    "svc.predict([spacy_get_vec(sent)])"
   ]
  },
  {
   "cell_type": "code",
   "execution_count": 26,
   "metadata": {},
   "outputs": [
    {
     "data": {
      "text/plain": [
       "array(['sentiment'], dtype=object)"
      ]
     },
     "execution_count": 26,
     "metadata": {},
     "output_type": "execute_result"
    }
   ],
   "source": [
    "sent = 'i think i forgot your name'\n",
    "svc.predict([spacy_get_vec(sent)])"
   ]
  },
  {
   "cell_type": "code",
   "execution_count": 21,
   "metadata": {},
   "outputs": [
    {
     "name": "stderr",
     "output_type": "stream",
     "text": [
      "/usr/local/lib/python2.7/dist-packages/sklearn/utils/validation.py:395: DeprecationWarning: Passing 1d arrays as data is deprecated in 0.17 and will raise ValueError in 0.19. Reshape your data either using X.reshape(-1, 1) if your data has a single feature or X.reshape(1, -1) if it contains a single sample.\n",
      "  DeprecationWarning)\n"
     ]
    },
    {
     "data": {
      "text/plain": [
       "array([u'sentiment'], dtype=object)"
      ]
     },
     "execution_count": 21,
     "metadata": {},
     "output_type": "execute_result"
    }
   ],
   "source": [
    "sent = 'Hii'\n",
    "svc.predict(spacy_get_vec(sent))"
   ]
  },
  {
   "cell_type": "code",
   "execution_count": 22,
   "metadata": {},
   "outputs": [
    {
     "data": {
      "text/plain": [
       "SVC(C=1.0, cache_size=200, class_weight=None, coef0=0.0,\n",
       "  decision_function_shape=None, degree=3, gamma='auto', kernel=u'linear',\n",
       "  max_iter=-1, probability=False, random_state=None, shrinking=True,\n",
       "  tol=0.001, verbose=False)"
      ]
     },
     "execution_count": 22,
     "metadata": {},
     "output_type": "execute_result"
    }
   ],
   "source": [
    "svc.fit(X, y)"
   ]
  },
  {
   "cell_type": "code",
   "execution_count": 23,
   "metadata": {},
   "outputs": [
    {
     "data": {
      "text/plain": [
       "[u'is_question.pkl']"
      ]
     },
     "execution_count": 23,
     "metadata": {},
     "output_type": "execute_result"
    }
   ],
   "source": [
    "from sklearn.externals import joblib\n",
    "joblib.dump(svc, 'is_question.pkl')"
   ]
  },
  {
   "cell_type": "code",
   "execution_count": null,
   "metadata": {
    "collapsed": true
   },
   "outputs": [],
   "source": []
  }
 ],
 "metadata": {
  "kernelspec": {
   "display_name": "Python 3",
   "language": "python",
   "name": "python3"
  },
  "language_info": {
   "codemirror_mode": {
    "name": "ipython",
    "version": 3
   },
   "file_extension": ".py",
   "mimetype": "text/x-python",
   "name": "python",
   "nbconvert_exporter": "python",
   "pygments_lexer": "ipython3",
   "version": "3.5.2"
  }
 },
 "nbformat": 4,
 "nbformat_minor": 1
}
