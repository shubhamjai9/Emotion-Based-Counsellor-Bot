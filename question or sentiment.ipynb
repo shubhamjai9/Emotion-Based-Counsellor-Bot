{
 "cells": [
  {
   "cell_type": "code",
   "execution_count": 1,
   "metadata": {
    "collapsed": true
   },
   "outputs": [],
   "source": [
    "import spacy\n",
    "import numpy as np\n",
    "import pandas as pd\n",
    "from stopwords import ENGLISH_STOP_WORDS\n",
    "from __future__ import unicode_literals\n",
    "import warnings\n",
    "warnings.filterwarnings(\"ignore\", category=DeprecationWarning)\n"
   ]
  },
  {
   "cell_type": "code",
   "execution_count": 2,
   "metadata": {
    "collapsed": true
   },
   "outputs": [],
   "source": [
    "en_nlp = spacy.load('en')"
   ]
  },
  {
   "cell_type": "code",
   "execution_count": 3,
   "metadata": {
    "collapsed": true
   },
   "outputs": [],
   "source": [
    "def spacy_get_vec(sentence):\n",
    "    vec = np.zeros(384)\n",
    "    doc = en_nlp((sentence))\n",
    "    for word in doc:\n",
    "        #if word.lower_ in ENGLISH_STOP_WORDS:\n",
    "        #    continue\n",
    "        vec += word.vector\n",
    "    return vec"
   ]
  },
  {
   "cell_type": "code",
   "execution_count": 4,
   "metadata": {
    "collapsed": true
   },
   "outputs": [],
   "source": [
    "lines = open('./is_question.txt').readlines()\n",
    "vecs = []\n",
    "intents = []\n",
    "idfs = []\n",
    "for line in lines:\n",
    "    tokens = line.split(',')\n",
    "    sentence = tokens[0]\n",
    "    intent = tokens[1]\n",
    "    if intent[-1] == '\\n':\n",
    "        intent = intent[:-1]\n",
    "    vecs.append(spacy_get_vec(sentence))\n",
    "    intents.append(intent)\n",
    "\n",
    "df = pd.DataFrame(vecs, columns=['vec_%d' % i for i in range(384)])\n",
    "df['intents'] = intents\n",
    "df.intents = df.intents.astype('category')"
   ]
  },
  {
   "cell_type": "code",
   "execution_count": 5,
   "metadata": {
    "collapsed": true
   },
   "outputs": [],
   "source": [
    "from sklearn.utils import shuffle\n",
    "df = shuffle(df)"
   ]
  },
  {
   "cell_type": "code",
   "execution_count": 6,
   "metadata": {},
   "outputs": [
    {
     "data": {
      "text/html": [
       "<div>\n",
       "<style>\n",
       "    .dataframe thead tr:only-child th {\n",
       "        text-align: right;\n",
       "    }\n",
       "\n",
       "    .dataframe thead th {\n",
       "        text-align: left;\n",
       "    }\n",
       "\n",
       "    .dataframe tbody tr th {\n",
       "        vertical-align: top;\n",
       "    }\n",
       "</style>\n",
       "<table border=\"1\" class=\"dataframe\">\n",
       "  <thead>\n",
       "    <tr style=\"text-align: right;\">\n",
       "      <th></th>\n",
       "      <th>vec_0</th>\n",
       "      <th>vec_1</th>\n",
       "      <th>vec_2</th>\n",
       "      <th>vec_3</th>\n",
       "      <th>vec_4</th>\n",
       "      <th>vec_5</th>\n",
       "      <th>vec_6</th>\n",
       "      <th>vec_7</th>\n",
       "      <th>vec_8</th>\n",
       "      <th>vec_9</th>\n",
       "      <th>...</th>\n",
       "      <th>vec_375</th>\n",
       "      <th>vec_376</th>\n",
       "      <th>vec_377</th>\n",
       "      <th>vec_378</th>\n",
       "      <th>vec_379</th>\n",
       "      <th>vec_380</th>\n",
       "      <th>vec_381</th>\n",
       "      <th>vec_382</th>\n",
       "      <th>vec_383</th>\n",
       "      <th>intents</th>\n",
       "    </tr>\n",
       "  </thead>\n",
       "  <tbody>\n",
       "    <tr>\n",
       "      <th>6</th>\n",
       "      <td>-3.850943</td>\n",
       "      <td>-6.639082</td>\n",
       "      <td>5.704214</td>\n",
       "      <td>6.938688</td>\n",
       "      <td>6.879732</td>\n",
       "      <td>2.601594</td>\n",
       "      <td>-4.512103</td>\n",
       "      <td>-4.214966</td>\n",
       "      <td>1.815665</td>\n",
       "      <td>-1.607367</td>\n",
       "      <td>...</td>\n",
       "      <td>-0.118715</td>\n",
       "      <td>-0.079425</td>\n",
       "      <td>-0.999210</td>\n",
       "      <td>0.808647</td>\n",
       "      <td>0.909412</td>\n",
       "      <td>0.454612</td>\n",
       "      <td>0.197847</td>\n",
       "      <td>1.291913</td>\n",
       "      <td>1.130899</td>\n",
       "      <td>sentiment</td>\n",
       "    </tr>\n",
       "    <tr>\n",
       "      <th>107</th>\n",
       "      <td>3.870726</td>\n",
       "      <td>-0.750165</td>\n",
       "      <td>8.419325</td>\n",
       "      <td>0.993593</td>\n",
       "      <td>4.111084</td>\n",
       "      <td>-1.089855</td>\n",
       "      <td>-1.959931</td>\n",
       "      <td>-3.264334</td>\n",
       "      <td>2.925440</td>\n",
       "      <td>2.240141</td>\n",
       "      <td>...</td>\n",
       "      <td>0.908486</td>\n",
       "      <td>0.034517</td>\n",
       "      <td>-0.306704</td>\n",
       "      <td>0.796868</td>\n",
       "      <td>1.662183</td>\n",
       "      <td>-1.061653</td>\n",
       "      <td>0.973119</td>\n",
       "      <td>0.577741</td>\n",
       "      <td>0.380746</td>\n",
       "      <td>question</td>\n",
       "    </tr>\n",
       "    <tr>\n",
       "      <th>30</th>\n",
       "      <td>-2.043465</td>\n",
       "      <td>0.682373</td>\n",
       "      <td>0.795384</td>\n",
       "      <td>6.596918</td>\n",
       "      <td>4.184609</td>\n",
       "      <td>3.283040</td>\n",
       "      <td>-6.837724</td>\n",
       "      <td>-2.488773</td>\n",
       "      <td>-3.688787</td>\n",
       "      <td>6.685079</td>\n",
       "      <td>...</td>\n",
       "      <td>0.088831</td>\n",
       "      <td>-1.014090</td>\n",
       "      <td>0.023326</td>\n",
       "      <td>0.878456</td>\n",
       "      <td>1.352227</td>\n",
       "      <td>0.003860</td>\n",
       "      <td>1.486881</td>\n",
       "      <td>1.820464</td>\n",
       "      <td>0.449756</td>\n",
       "      <td>sentiment</td>\n",
       "    </tr>\n",
       "    <tr>\n",
       "      <th>45</th>\n",
       "      <td>-3.208255</td>\n",
       "      <td>-3.126131</td>\n",
       "      <td>-1.758441</td>\n",
       "      <td>10.487405</td>\n",
       "      <td>12.028679</td>\n",
       "      <td>-6.479359</td>\n",
       "      <td>-1.753736</td>\n",
       "      <td>-0.827356</td>\n",
       "      <td>2.270455</td>\n",
       "      <td>-0.661625</td>\n",
       "      <td>...</td>\n",
       "      <td>-0.480180</td>\n",
       "      <td>-0.867633</td>\n",
       "      <td>-0.684285</td>\n",
       "      <td>0.675551</td>\n",
       "      <td>1.351758</td>\n",
       "      <td>0.035565</td>\n",
       "      <td>0.813848</td>\n",
       "      <td>0.907636</td>\n",
       "      <td>0.539921</td>\n",
       "      <td>sentiment</td>\n",
       "    </tr>\n",
       "    <tr>\n",
       "      <th>74</th>\n",
       "      <td>2.330897</td>\n",
       "      <td>-2.618627</td>\n",
       "      <td>-3.213691</td>\n",
       "      <td>10.215489</td>\n",
       "      <td>3.283876</td>\n",
       "      <td>-2.868323</td>\n",
       "      <td>2.903101</td>\n",
       "      <td>3.035145</td>\n",
       "      <td>5.665443</td>\n",
       "      <td>-0.959649</td>\n",
       "      <td>...</td>\n",
       "      <td>0.227861</td>\n",
       "      <td>0.272062</td>\n",
       "      <td>-0.450582</td>\n",
       "      <td>0.262057</td>\n",
       "      <td>0.354631</td>\n",
       "      <td>-0.914984</td>\n",
       "      <td>0.660381</td>\n",
       "      <td>0.309936</td>\n",
       "      <td>0.862658</td>\n",
       "      <td>sentiment</td>\n",
       "    </tr>\n",
       "  </tbody>\n",
       "</table>\n",
       "<p>5 rows × 385 columns</p>\n",
       "</div>"
      ],
      "text/plain": [
       "        vec_0     vec_1     vec_2      vec_3      vec_4     vec_5     vec_6  \\\n",
       "6   -3.850943 -6.639082  5.704214   6.938688   6.879732  2.601594 -4.512103   \n",
       "107  3.870726 -0.750165  8.419325   0.993593   4.111084 -1.089855 -1.959931   \n",
       "30  -2.043465  0.682373  0.795384   6.596918   4.184609  3.283040 -6.837724   \n",
       "45  -3.208255 -3.126131 -1.758441  10.487405  12.028679 -6.479359 -1.753736   \n",
       "74   2.330897 -2.618627 -3.213691  10.215489   3.283876 -2.868323  2.903101   \n",
       "\n",
       "        vec_7     vec_8     vec_9    ...       vec_375   vec_376   vec_377  \\\n",
       "6   -4.214966  1.815665 -1.607367    ...     -0.118715 -0.079425 -0.999210   \n",
       "107 -3.264334  2.925440  2.240141    ...      0.908486  0.034517 -0.306704   \n",
       "30  -2.488773 -3.688787  6.685079    ...      0.088831 -1.014090  0.023326   \n",
       "45  -0.827356  2.270455 -0.661625    ...     -0.480180 -0.867633 -0.684285   \n",
       "74   3.035145  5.665443 -0.959649    ...      0.227861  0.272062 -0.450582   \n",
       "\n",
       "      vec_378   vec_379   vec_380   vec_381   vec_382   vec_383    intents  \n",
       "6    0.808647  0.909412  0.454612  0.197847  1.291913  1.130899  sentiment  \n",
       "107  0.796868  1.662183 -1.061653  0.973119  0.577741  0.380746   question  \n",
       "30   0.878456  1.352227  0.003860  1.486881  1.820464  0.449756  sentiment  \n",
       "45   0.675551  1.351758  0.035565  0.813848  0.907636  0.539921  sentiment  \n",
       "74   0.262057  0.354631 -0.914984  0.660381  0.309936  0.862658  sentiment  \n",
       "\n",
       "[5 rows x 385 columns]"
      ]
     },
     "execution_count": 6,
     "metadata": {},
     "output_type": "execute_result"
    }
   ],
   "source": [
    "df.head()"
   ]
  },
  {
   "cell_type": "code",
   "execution_count": 7,
   "metadata": {
    "collapsed": true
   },
   "outputs": [],
   "source": [
    "X = df.iloc[:, :-1].values\n",
    "y = df.iloc[:,-1:].values.ravel()"
   ]
  },
  {
   "cell_type": "code",
   "execution_count": 8,
   "metadata": {},
   "outputs": [
    {
     "name": "stderr",
     "output_type": "stream",
     "text": [
      "/usr/local/lib/python2.7/dist-packages/sklearn/cross_validation.py:44: DeprecationWarning: This module was deprecated in version 0.18 in favor of the model_selection module into which all the refactored classes and functions are moved. Also note that the interface of the new CV iterators are different from that of this module. This module will be removed in 0.20.\n",
      "  \"This module will be removed in 0.20.\", DeprecationWarning)\n"
     ]
    }
   ],
   "source": [
    "from sklearn.cross_validation import train_test_split\n",
    "X_train,X_val,y_train,y_val = train_test_split(X, y, test_size=0.20)"
   ]
  },
  {
   "cell_type": "code",
   "execution_count": 9,
   "metadata": {},
   "outputs": [
    {
     "data": {
      "text/plain": [
       "LogisticRegression(C=1.0,\n",
       "          class_weight={u'question': 0.95, u'sentiment': 1.05}, dual=False,\n",
       "          fit_intercept=True, intercept_scaling=1, max_iter=100,\n",
       "          multi_class='ovr', n_jobs=1, penalty='l2', random_state=None,\n",
       "          solver='liblinear', tol=0.0001, verbose=0, warm_start=False)"
      ]
     },
     "execution_count": 9,
     "metadata": {},
     "output_type": "execute_result"
    }
   ],
   "source": [
    "from sklearn.linear_model import LogisticRegression\n",
    "logit_model = LogisticRegression(class_weight={'question':0.95,'sentiment':1.05})\n",
    "logit_model.fit(X_train, y_train)"
   ]
  },
  {
   "cell_type": "code",
   "execution_count": 10,
   "metadata": {},
   "outputs": [
    {
     "name": "stdout",
     "output_type": "stream",
     "text": [
      "1.0\n",
      "0.935483870968\n"
     ]
    }
   ],
   "source": [
    "print(logit_model.score(X_train, y_train))\n",
    "print(logit_model.score(X_val, y_val))"
   ]
  },
  {
   "cell_type": "code",
   "execution_count": 11,
   "metadata": {},
   "outputs": [
    {
     "name": "stdout",
     "output_type": "stream",
     "text": [
      "[[ 0.14874617  0.85125383]]\n",
      "[u'sentiment']\n"
     ]
    },
    {
     "name": "stderr",
     "output_type": "stream",
     "text": [
      "/usr/local/lib/python2.7/dist-packages/sklearn/utils/validation.py:395: DeprecationWarning: Passing 1d arrays as data is deprecated in 0.17 and will raise ValueError in 0.19. Reshape your data either using X.reshape(-1, 1) if your data has a single feature or X.reshape(1, -1) if it contains a single sample.\n",
      "  DeprecationWarning)\n",
      "/usr/local/lib/python2.7/dist-packages/sklearn/utils/validation.py:395: DeprecationWarning: Passing 1d arrays as data is deprecated in 0.17 and will raise ValueError in 0.19. Reshape your data either using X.reshape(-1, 1) if your data has a single feature or X.reshape(1, -1) if it contains a single sample.\n",
      "  DeprecationWarning)\n"
     ]
    }
   ],
   "source": [
    "sent = 'i forgot your name'\n",
    "print(logit_model.predict_proba(spacy_get_vec(sent)))\n",
    "print(logit_model.predict(spacy_get_vec(sent)))"
   ]
  },
  {
   "cell_type": "code",
   "execution_count": 12,
   "metadata": {
    "collapsed": true
   },
   "outputs": [],
   "source": [
    "from sklearn.ensemble import GradientBoostingClassifier\n",
    "gradboost = GradientBoostingClassifier(n_estimators=500, max_depth=25)"
   ]
  },
  {
   "cell_type": "code",
   "execution_count": 13,
   "metadata": {},
   "outputs": [
    {
     "name": "stdout",
     "output_type": "stream",
     "text": [
      "1.0\n",
      "0.838709677419\n"
     ]
    }
   ],
   "source": [
    "gradboost.fit(X_train, y_train)\n",
    "print(gradboost.score(X_train, y_train))\n",
    "print(gradboost.score(X_val, y_val))"
   ]
  },
  {
   "cell_type": "code",
   "execution_count": 14,
   "metadata": {},
   "outputs": [
    {
     "name": "stderr",
     "output_type": "stream",
     "text": [
      "/usr/local/lib/python2.7/dist-packages/sklearn/utils/validation.py:395: DeprecationWarning: Passing 1d arrays as data is deprecated in 0.17 and will raise ValueError in 0.19. Reshape your data either using X.reshape(-1, 1) if your data has a single feature or X.reshape(1, -1) if it contains a single sample.\n",
      "  DeprecationWarning)\n"
     ]
    },
    {
     "data": {
      "text/plain": [
       "array([u'sentiment'], dtype=object)"
      ]
     },
     "execution_count": 14,
     "metadata": {},
     "output_type": "execute_result"
    }
   ],
   "source": [
    "sent = 'i am feeling very happy'\n",
    "gradboost.predict(spacy_get_vec(sent))"
   ]
  },
  {
   "cell_type": "code",
   "execution_count": 15,
   "metadata": {},
   "outputs": [
    {
     "name": "stderr",
     "output_type": "stream",
     "text": [
      "/usr/local/lib/python2.7/dist-packages/sklearn/utils/validation.py:395: DeprecationWarning: Passing 1d arrays as data is deprecated in 0.17 and will raise ValueError in 0.19. Reshape your data either using X.reshape(-1, 1) if your data has a single feature or X.reshape(1, -1) if it contains a single sample.\n",
      "  DeprecationWarning)\n"
     ]
    },
    {
     "data": {
      "text/plain": [
       "array([u'question'], dtype=object)"
      ]
     },
     "execution_count": 15,
     "metadata": {},
     "output_type": "execute_result"
    }
   ],
   "source": [
    "sent = 'i think i forgot your name'\n",
    "gradboost.predict(spacy_get_vec(sent))"
   ]
  },
  {
   "cell_type": "code",
   "execution_count": 16,
   "metadata": {},
   "outputs": [
    {
     "data": {
      "text/plain": [
       "SVC(C=1.0, cache_size=200, class_weight=None, coef0=0.0,\n",
       "  decision_function_shape=None, degree=3, gamma='auto', kernel=u'linear',\n",
       "  max_iter=-1, probability=False, random_state=None, shrinking=True,\n",
       "  tol=0.001, verbose=False)"
      ]
     },
     "execution_count": 16,
     "metadata": {},
     "output_type": "execute_result"
    }
   ],
   "source": [
    "from sklearn.svm import SVC\n",
    "svc = SVC(kernel='linear')\n",
    "svc.fit(X_train, y_train)"
   ]
  },
  {
   "cell_type": "code",
   "execution_count": 17,
   "metadata": {},
   "outputs": [
    {
     "name": "stdout",
     "output_type": "stream",
     "text": [
      "1.0\n",
      "0.935483870968\n"
     ]
    }
   ],
   "source": [
    "print(svc.score(X_train, y_train))\n",
    "print(svc.score(X_val, y_val))"
   ]
  },
  {
   "cell_type": "code",
   "execution_count": 18,
   "metadata": {},
   "outputs": [
    {
     "name": "stderr",
     "output_type": "stream",
     "text": [
      "/usr/local/lib/python2.7/dist-packages/sklearn/utils/validation.py:395: DeprecationWarning: Passing 1d arrays as data is deprecated in 0.17 and will raise ValueError in 0.19. Reshape your data either using X.reshape(-1, 1) if your data has a single feature or X.reshape(1, -1) if it contains a single sample.\n",
      "  DeprecationWarning)\n"
     ]
    },
    {
     "data": {
      "text/plain": [
       "array([u'question'], dtype=object)"
      ]
     },
     "execution_count": 18,
     "metadata": {},
     "output_type": "execute_result"
    }
   ],
   "source": [
    "sent = 'do you live in France'\n",
    "svc.predict(spacy_get_vec(sent))"
   ]
  },
  {
   "cell_type": "code",
   "execution_count": 19,
   "metadata": {},
   "outputs": [
    {
     "name": "stderr",
     "output_type": "stream",
     "text": [
      "/usr/local/lib/python2.7/dist-packages/sklearn/utils/validation.py:395: DeprecationWarning: Passing 1d arrays as data is deprecated in 0.17 and will raise ValueError in 0.19. Reshape your data either using X.reshape(-1, 1) if your data has a single feature or X.reshape(1, -1) if it contains a single sample.\n",
      "  DeprecationWarning)\n"
     ]
    },
    {
     "data": {
      "text/plain": [
       "array([u'question'], dtype=object)"
      ]
     },
     "execution_count": 19,
     "metadata": {},
     "output_type": "execute_result"
    }
   ],
   "source": [
    "sent = 'my name is Batman'\n",
    "svc.predict(spacy_get_vec(sent))"
   ]
  },
  {
   "cell_type": "code",
   "execution_count": 20,
   "metadata": {},
   "outputs": [
    {
     "name": "stderr",
     "output_type": "stream",
     "text": [
      "/usr/local/lib/python2.7/dist-packages/sklearn/utils/validation.py:395: DeprecationWarning: Passing 1d arrays as data is deprecated in 0.17 and will raise ValueError in 0.19. Reshape your data either using X.reshape(-1, 1) if your data has a single feature or X.reshape(1, -1) if it contains a single sample.\n",
      "  DeprecationWarning)\n"
     ]
    },
    {
     "data": {
      "text/plain": [
       "array([u'sentiment'], dtype=object)"
      ]
     },
     "execution_count": 20,
     "metadata": {},
     "output_type": "execute_result"
    }
   ],
   "source": [
    "sent = 'i think i forgot your name'\n",
    "svc.predict(spacy_get_vec(sent))"
   ]
  },
  {
   "cell_type": "code",
   "execution_count": 21,
   "metadata": {},
   "outputs": [
    {
     "name": "stderr",
     "output_type": "stream",
     "text": [
      "/usr/local/lib/python2.7/dist-packages/sklearn/utils/validation.py:395: DeprecationWarning: Passing 1d arrays as data is deprecated in 0.17 and will raise ValueError in 0.19. Reshape your data either using X.reshape(-1, 1) if your data has a single feature or X.reshape(1, -1) if it contains a single sample.\n",
      "  DeprecationWarning)\n"
     ]
    },
    {
     "data": {
      "text/plain": [
       "array([u'sentiment'], dtype=object)"
      ]
     },
     "execution_count": 21,
     "metadata": {},
     "output_type": "execute_result"
    }
   ],
   "source": [
    "sent = 'Hii'\n",
    "svc.predict(spacy_get_vec(sent))"
   ]
  },
  {
   "cell_type": "code",
   "execution_count": 22,
   "metadata": {},
   "outputs": [
    {
     "data": {
      "text/plain": [
       "SVC(C=1.0, cache_size=200, class_weight=None, coef0=0.0,\n",
       "  decision_function_shape=None, degree=3, gamma='auto', kernel=u'linear',\n",
       "  max_iter=-1, probability=False, random_state=None, shrinking=True,\n",
       "  tol=0.001, verbose=False)"
      ]
     },
     "execution_count": 22,
     "metadata": {},
     "output_type": "execute_result"
    }
   ],
   "source": [
    "svc.fit(X, y)"
   ]
  },
  {
   "cell_type": "code",
   "execution_count": 23,
   "metadata": {},
   "outputs": [
    {
     "data": {
      "text/plain": [
       "[u'is_question.pkl']"
      ]
     },
     "execution_count": 23,
     "metadata": {},
     "output_type": "execute_result"
    }
   ],
   "source": [
    "from sklearn.externals import joblib\n",
    "joblib.dump(svc, 'is_question.pkl')"
   ]
  },
  {
   "cell_type": "code",
   "execution_count": null,
   "metadata": {
    "collapsed": true
   },
   "outputs": [],
   "source": []
  }
 ],
 "metadata": {
  "kernelspec": {
   "display_name": "Python 2",
   "language": "python",
   "name": "python2"
  },
  "language_info": {
   "codemirror_mode": {
    "name": "ipython",
    "version": 2
   },
   "file_extension": ".py",
   "mimetype": "text/x-python",
   "name": "python",
   "nbconvert_exporter": "python",
   "pygments_lexer": "ipython2",
   "version": "2.7.12"
  }
 },
 "nbformat": 4,
 "nbformat_minor": 1
}
