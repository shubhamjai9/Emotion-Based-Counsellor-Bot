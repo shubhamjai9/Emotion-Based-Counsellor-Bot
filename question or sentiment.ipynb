{
 "cells": [
  {
   "cell_type": "code",
   "execution_count": 1,
   "metadata": {},
   "outputs": [],
   "source": [
    "import spacy\n",
    "import numpy as np\n",
    "import pandas as pd\n",
    "from stopwords import ENGLISH_STOP_WORDS\n",
    "# from __future__ import unicode_literals\n",
    "import warnings\n",
    "warnings.filterwarnings(\"ignore\", category=DeprecationWarning)\n"
   ]
  },
  {
   "cell_type": "code",
   "execution_count": 2,
   "metadata": {},
   "outputs": [],
   "source": [
    "en_nlp = spacy.load('en')"
   ]
  },
  {
   "cell_type": "code",
   "execution_count": 3,
   "metadata": {},
   "outputs": [],
   "source": [
    "def spacy_get_vec(sentence):\n",
    "    vec = np.zeros(96)\n",
    "    doc = en_nlp((sentence))\n",
    "    for word in doc:\n",
    "        #if word.lower_ in ENGLISH_STOP_WORDS:\n",
    "        #    continue\n",
    "        vec += word.vector\n",
    "    return vec"
   ]
  },
  {
   "cell_type": "code",
   "execution_count": 5,
   "metadata": {},
   "outputs": [],
   "source": [
    "lines = open('./is_question.txt').readlines()\n",
    "vecs = []\n",
    "intents = []\n",
    "idfs = []\n",
    "for line in lines:\n",
    "    tokens = line.split(',')\n",
    "    sentence = tokens[0]\n",
    "    intent = tokens[1]\n",
    "    if intent[-1] == '\\n':\n",
    "        intent = intent[:-1]\n",
    "    vecs.append(spacy_get_vec(sentence))\n",
    "    intents.append(intent)\n",
    "\n",
    "df = pd.DataFrame(vecs, columns=['vec_%d' % i for i in range(96)])\n",
    "df['intents'] = intents\n",
    "df.intents = df.intents.astype('category')"
   ]
  },
  {
   "cell_type": "code",
   "execution_count": 6,
   "metadata": {},
   "outputs": [],
   "source": [
    "from sklearn.utils import shuffle\n",
    "df = shuffle(df)"
   ]
  },
  {
   "cell_type": "code",
   "execution_count": 7,
   "metadata": {},
   "outputs": [
    {
     "data": {
      "text/html": [
       "<div>\n",
       "<style scoped>\n",
       "    .dataframe tbody tr th:only-of-type {\n",
       "        vertical-align: middle;\n",
       "    }\n",
       "\n",
       "    .dataframe tbody tr th {\n",
       "        vertical-align: top;\n",
       "    }\n",
       "\n",
       "    .dataframe thead th {\n",
       "        text-align: right;\n",
       "    }\n",
       "</style>\n",
       "<table border=\"1\" class=\"dataframe\">\n",
       "  <thead>\n",
       "    <tr style=\"text-align: right;\">\n",
       "      <th></th>\n",
       "      <th>vec_0</th>\n",
       "      <th>vec_1</th>\n",
       "      <th>vec_2</th>\n",
       "      <th>vec_3</th>\n",
       "      <th>vec_4</th>\n",
       "      <th>vec_5</th>\n",
       "      <th>vec_6</th>\n",
       "      <th>vec_7</th>\n",
       "      <th>vec_8</th>\n",
       "      <th>vec_9</th>\n",
       "      <th>...</th>\n",
       "      <th>vec_87</th>\n",
       "      <th>vec_88</th>\n",
       "      <th>vec_89</th>\n",
       "      <th>vec_90</th>\n",
       "      <th>vec_91</th>\n",
       "      <th>vec_92</th>\n",
       "      <th>vec_93</th>\n",
       "      <th>vec_94</th>\n",
       "      <th>vec_95</th>\n",
       "      <th>intents</th>\n",
       "    </tr>\n",
       "  </thead>\n",
       "  <tbody>\n",
       "    <tr>\n",
       "      <th>141</th>\n",
       "      <td>8.638584</td>\n",
       "      <td>-4.511331</td>\n",
       "      <td>9.105298</td>\n",
       "      <td>-7.873738</td>\n",
       "      <td>-7.094472</td>\n",
       "      <td>5.460470</td>\n",
       "      <td>-2.411022</td>\n",
       "      <td>-2.590003</td>\n",
       "      <td>0.577147</td>\n",
       "      <td>10.021751</td>\n",
       "      <td>...</td>\n",
       "      <td>-12.117597</td>\n",
       "      <td>2.807703</td>\n",
       "      <td>6.294908</td>\n",
       "      <td>-5.405303</td>\n",
       "      <td>-1.441424</td>\n",
       "      <td>12.072329</td>\n",
       "      <td>-6.007735</td>\n",
       "      <td>5.095221</td>\n",
       "      <td>2.366286</td>\n",
       "      <td>question</td>\n",
       "    </tr>\n",
       "    <tr>\n",
       "      <th>106</th>\n",
       "      <td>5.659891</td>\n",
       "      <td>-6.080133</td>\n",
       "      <td>7.118525</td>\n",
       "      <td>-4.139761</td>\n",
       "      <td>-9.131500</td>\n",
       "      <td>-1.621250</td>\n",
       "      <td>-6.766408</td>\n",
       "      <td>-7.214301</td>\n",
       "      <td>6.137925</td>\n",
       "      <td>15.765751</td>\n",
       "      <td>...</td>\n",
       "      <td>-0.745241</td>\n",
       "      <td>-3.616721</td>\n",
       "      <td>14.099648</td>\n",
       "      <td>-2.818982</td>\n",
       "      <td>5.383953</td>\n",
       "      <td>15.527542</td>\n",
       "      <td>-3.013386</td>\n",
       "      <td>-1.775828</td>\n",
       "      <td>1.177742</td>\n",
       "      <td>question</td>\n",
       "    </tr>\n",
       "    <tr>\n",
       "      <th>61</th>\n",
       "      <td>-5.571187</td>\n",
       "      <td>-4.136174</td>\n",
       "      <td>-5.608514</td>\n",
       "      <td>1.553669</td>\n",
       "      <td>2.062600</td>\n",
       "      <td>0.558095</td>\n",
       "      <td>2.835774</td>\n",
       "      <td>1.772828</td>\n",
       "      <td>4.804504</td>\n",
       "      <td>-2.707741</td>\n",
       "      <td>...</td>\n",
       "      <td>-3.443504</td>\n",
       "      <td>0.231024</td>\n",
       "      <td>0.563015</td>\n",
       "      <td>3.728613</td>\n",
       "      <td>3.088901</td>\n",
       "      <td>-1.503433</td>\n",
       "      <td>0.544523</td>\n",
       "      <td>0.821426</td>\n",
       "      <td>-1.572616</td>\n",
       "      <td>sentiment</td>\n",
       "    </tr>\n",
       "    <tr>\n",
       "      <th>59</th>\n",
       "      <td>-3.771748</td>\n",
       "      <td>-1.192746</td>\n",
       "      <td>4.249696</td>\n",
       "      <td>-1.058279</td>\n",
       "      <td>0.899832</td>\n",
       "      <td>5.556467</td>\n",
       "      <td>1.612815</td>\n",
       "      <td>4.628816</td>\n",
       "      <td>0.292660</td>\n",
       "      <td>3.088551</td>\n",
       "      <td>...</td>\n",
       "      <td>-3.371501</td>\n",
       "      <td>1.527476</td>\n",
       "      <td>3.814626</td>\n",
       "      <td>1.510213</td>\n",
       "      <td>3.573054</td>\n",
       "      <td>-2.389172</td>\n",
       "      <td>-2.857864</td>\n",
       "      <td>-1.929039</td>\n",
       "      <td>-1.581492</td>\n",
       "      <td>sentiment</td>\n",
       "    </tr>\n",
       "    <tr>\n",
       "      <th>137</th>\n",
       "      <td>1.623816</td>\n",
       "      <td>-5.007186</td>\n",
       "      <td>4.284825</td>\n",
       "      <td>-7.427752</td>\n",
       "      <td>-8.513345</td>\n",
       "      <td>-1.796197</td>\n",
       "      <td>12.413925</td>\n",
       "      <td>6.584578</td>\n",
       "      <td>-18.073582</td>\n",
       "      <td>12.328767</td>\n",
       "      <td>...</td>\n",
       "      <td>5.213313</td>\n",
       "      <td>-4.052181</td>\n",
       "      <td>24.446793</td>\n",
       "      <td>-3.277435</td>\n",
       "      <td>-1.788192</td>\n",
       "      <td>5.015595</td>\n",
       "      <td>2.265996</td>\n",
       "      <td>8.576342</td>\n",
       "      <td>-13.774484</td>\n",
       "      <td>question</td>\n",
       "    </tr>\n",
       "  </tbody>\n",
       "</table>\n",
       "<p>5 rows × 97 columns</p>\n",
       "</div>"
      ],
      "text/plain": [
       "        vec_0     vec_1     vec_2     vec_3     vec_4     vec_5      vec_6  \\\n",
       "141  8.638584 -4.511331  9.105298 -7.873738 -7.094472  5.460470  -2.411022   \n",
       "106  5.659891 -6.080133  7.118525 -4.139761 -9.131500 -1.621250  -6.766408   \n",
       "61  -5.571187 -4.136174 -5.608514  1.553669  2.062600  0.558095   2.835774   \n",
       "59  -3.771748 -1.192746  4.249696 -1.058279  0.899832  5.556467   1.612815   \n",
       "137  1.623816 -5.007186  4.284825 -7.427752 -8.513345 -1.796197  12.413925   \n",
       "\n",
       "        vec_7      vec_8      vec_9  ...     vec_87    vec_88     vec_89  \\\n",
       "141 -2.590003   0.577147  10.021751  ... -12.117597  2.807703   6.294908   \n",
       "106 -7.214301   6.137925  15.765751  ...  -0.745241 -3.616721  14.099648   \n",
       "61   1.772828   4.804504  -2.707741  ...  -3.443504  0.231024   0.563015   \n",
       "59   4.628816   0.292660   3.088551  ...  -3.371501  1.527476   3.814626   \n",
       "137  6.584578 -18.073582  12.328767  ...   5.213313 -4.052181  24.446793   \n",
       "\n",
       "       vec_90    vec_91     vec_92    vec_93    vec_94     vec_95    intents  \n",
       "141 -5.405303 -1.441424  12.072329 -6.007735  5.095221   2.366286   question  \n",
       "106 -2.818982  5.383953  15.527542 -3.013386 -1.775828   1.177742   question  \n",
       "61   3.728613  3.088901  -1.503433  0.544523  0.821426  -1.572616  sentiment  \n",
       "59   1.510213  3.573054  -2.389172 -2.857864 -1.929039  -1.581492  sentiment  \n",
       "137 -3.277435 -1.788192   5.015595  2.265996  8.576342 -13.774484   question  \n",
       "\n",
       "[5 rows x 97 columns]"
      ]
     },
     "execution_count": 7,
     "metadata": {},
     "output_type": "execute_result"
    }
   ],
   "source": [
    "df.head()"
   ]
  },
  {
   "cell_type": "code",
   "execution_count": 8,
   "metadata": {},
   "outputs": [],
   "source": [
    "X = df.iloc[:, :-1].values\n",
    "y = df.iloc[:,-1:].values.ravel()"
   ]
  },
  {
   "cell_type": "code",
   "execution_count": 11,
   "metadata": {},
   "outputs": [],
   "source": [
    "from sklearn.model_selection import train_test_split\n",
    "X_train,X_val,y_train,y_val = train_test_split(X, y, test_size=0.20)"
   ]
  },
  {
   "cell_type": "code",
   "execution_count": 12,
   "metadata": {},
   "outputs": [
    {
     "name": "stderr",
     "output_type": "stream",
     "text": [
      "/home/vidooly/shubham/nlp_env/lib/python3.5/site-packages/sklearn/linear_model/logistic.py:433: FutureWarning: Default solver will be changed to 'lbfgs' in 0.22. Specify a solver to silence this warning.\n",
      "  FutureWarning)\n"
     ]
    },
    {
     "data": {
      "text/plain": [
       "LogisticRegression(C=1.0, class_weight={'question': 0.95, 'sentiment': 1.05},\n",
       "          dual=False, fit_intercept=True, intercept_scaling=1,\n",
       "          max_iter=100, multi_class='warn', n_jobs=None, penalty='l2',\n",
       "          random_state=None, solver='warn', tol=0.0001, verbose=0,\n",
       "          warm_start=False)"
      ]
     },
     "execution_count": 12,
     "metadata": {},
     "output_type": "execute_result"
    }
   ],
   "source": [
    "from sklearn.linear_model import LogisticRegression\n",
    "logit_model = LogisticRegression(class_weight={'question':0.95,'sentiment':1.05})\n",
    "logit_model.fit(X_train, y_train)"
   ]
  },
  {
   "cell_type": "code",
   "execution_count": 13,
   "metadata": {},
   "outputs": [
    {
     "name": "stdout",
     "output_type": "stream",
     "text": [
      "1.0\n",
      "0.8709677419354839\n"
     ]
    }
   ],
   "source": [
    "print(logit_model.score(X_train, y_train))\n",
    "print(logit_model.score(X_val, y_val))"
   ]
  },
  {
   "cell_type": "code",
   "execution_count": 11,
   "metadata": {},
   "outputs": [
    {
     "name": "stdout",
     "output_type": "stream",
     "text": [
      "[[ 0.14874617  0.85125383]]\n",
      "[u'sentiment']\n"
     ]
    },
    {
     "name": "stderr",
     "output_type": "stream",
     "text": [
      "/usr/local/lib/python2.7/dist-packages/sklearn/utils/validation.py:395: DeprecationWarning: Passing 1d arrays as data is deprecated in 0.17 and will raise ValueError in 0.19. Reshape your data either using X.reshape(-1, 1) if your data has a single feature or X.reshape(1, -1) if it contains a single sample.\n",
      "  DeprecationWarning)\n",
      "/usr/local/lib/python2.7/dist-packages/sklearn/utils/validation.py:395: DeprecationWarning: Passing 1d arrays as data is deprecated in 0.17 and will raise ValueError in 0.19. Reshape your data either using X.reshape(-1, 1) if your data has a single feature or X.reshape(1, -1) if it contains a single sample.\n",
      "  DeprecationWarning)\n"
     ]
    }
   ],
   "source": [
    "sent = 'i forgot your name'\n",
    "print(logit_model.predict_proba(spacy_get_vec(sent)))\n",
    "print(logit_model.predict(spacy_get_vec(sent)))"
   ]
  },
  {
   "cell_type": "code",
   "execution_count": 14,
   "metadata": {},
   "outputs": [],
   "source": [
    "from sklearn.ensemble import GradientBoostingClassifier\n",
    "gradboost = GradientBoostingClassifier(n_estimators=500, max_depth=25)"
   ]
  },
  {
   "cell_type": "code",
   "execution_count": 15,
   "metadata": {},
   "outputs": [
    {
     "name": "stdout",
     "output_type": "stream",
     "text": [
      "1.0\n",
      "0.8387096774193549\n"
     ]
    }
   ],
   "source": [
    "gradboost.fit(X_train, y_train)\n",
    "print(gradboost.score(X_train, y_train))\n",
    "print(gradboost.score(X_val, y_val))"
   ]
  },
  {
   "cell_type": "code",
   "execution_count": 14,
   "metadata": {},
   "outputs": [
    {
     "name": "stderr",
     "output_type": "stream",
     "text": [
      "/usr/local/lib/python2.7/dist-packages/sklearn/utils/validation.py:395: DeprecationWarning: Passing 1d arrays as data is deprecated in 0.17 and will raise ValueError in 0.19. Reshape your data either using X.reshape(-1, 1) if your data has a single feature or X.reshape(1, -1) if it contains a single sample.\n",
      "  DeprecationWarning)\n"
     ]
    },
    {
     "data": {
      "text/plain": [
       "array([u'sentiment'], dtype=object)"
      ]
     },
     "execution_count": 14,
     "metadata": {},
     "output_type": "execute_result"
    }
   ],
   "source": [
    "sent = 'i am feeling very happy'\n",
    "gradboost.predict(spacy_get_vec(sent))"
   ]
  },
  {
   "cell_type": "code",
   "execution_count": 15,
   "metadata": {},
   "outputs": [
    {
     "name": "stderr",
     "output_type": "stream",
     "text": [
      "/usr/local/lib/python2.7/dist-packages/sklearn/utils/validation.py:395: DeprecationWarning: Passing 1d arrays as data is deprecated in 0.17 and will raise ValueError in 0.19. Reshape your data either using X.reshape(-1, 1) if your data has a single feature or X.reshape(1, -1) if it contains a single sample.\n",
      "  DeprecationWarning)\n"
     ]
    },
    {
     "data": {
      "text/plain": [
       "array([u'question'], dtype=object)"
      ]
     },
     "execution_count": 15,
     "metadata": {},
     "output_type": "execute_result"
    }
   ],
   "source": [
    "sent = 'i think i forgot your name'\n",
    "gradboost.predict(spacy_get_vec(sent))"
   ]
  },
  {
   "cell_type": "code",
   "execution_count": 16,
   "metadata": {},
   "outputs": [
    {
     "data": {
      "text/plain": [
       "SVC(C=1.0, cache_size=200, class_weight=None, coef0=0.0,\n",
       "  decision_function_shape='ovr', degree=3, gamma='auto_deprecated',\n",
       "  kernel='linear', max_iter=-1, probability=False, random_state=None,\n",
       "  shrinking=True, tol=0.001, verbose=False)"
      ]
     },
     "execution_count": 16,
     "metadata": {},
     "output_type": "execute_result"
    }
   ],
   "source": [
    "from sklearn.svm import SVC\n",
    "svc = SVC(kernel='linear')\n",
    "svc.fit(X_train, y_train)"
   ]
  },
  {
   "cell_type": "code",
   "execution_count": 17,
   "metadata": {},
   "outputs": [
    {
     "name": "stdout",
     "output_type": "stream",
     "text": [
      "1.0\n",
      "0.8709677419354839\n"
     ]
    }
   ],
   "source": [
    "print(svc.score(X_train, y_train))\n",
    "print(svc.score(X_val, y_val))"
   ]
  },
  {
   "cell_type": "code",
   "execution_count": 18,
   "metadata": {},
   "outputs": [
    {
     "name": "stderr",
     "output_type": "stream",
     "text": [
      "/usr/local/lib/python2.7/dist-packages/sklearn/utils/validation.py:395: DeprecationWarning: Passing 1d arrays as data is deprecated in 0.17 and will raise ValueError in 0.19. Reshape your data either using X.reshape(-1, 1) if your data has a single feature or X.reshape(1, -1) if it contains a single sample.\n",
      "  DeprecationWarning)\n"
     ]
    },
    {
     "data": {
      "text/plain": [
       "array([u'question'], dtype=object)"
      ]
     },
     "execution_count": 18,
     "metadata": {},
     "output_type": "execute_result"
    }
   ],
   "source": [
    "sent = 'do you live in France'\n",
    "svc.predict(spacy_get_vec(sent))"
   ]
  },
  {
   "cell_type": "code",
   "execution_count": 19,
   "metadata": {},
   "outputs": [
    {
     "name": "stderr",
     "output_type": "stream",
     "text": [
      "/usr/local/lib/python2.7/dist-packages/sklearn/utils/validation.py:395: DeprecationWarning: Passing 1d arrays as data is deprecated in 0.17 and will raise ValueError in 0.19. Reshape your data either using X.reshape(-1, 1) if your data has a single feature or X.reshape(1, -1) if it contains a single sample.\n",
      "  DeprecationWarning)\n"
     ]
    },
    {
     "data": {
      "text/plain": [
       "array([u'question'], dtype=object)"
      ]
     },
     "execution_count": 19,
     "metadata": {},
     "output_type": "execute_result"
    }
   ],
   "source": [
    "sent = 'my name is Batman'\n",
    "svc.predict(spacy_get_vec(sent))"
   ]
  },
  {
   "cell_type": "code",
   "execution_count": 20,
   "metadata": {},
   "outputs": [
    {
     "name": "stderr",
     "output_type": "stream",
     "text": [
      "/usr/local/lib/python2.7/dist-packages/sklearn/utils/validation.py:395: DeprecationWarning: Passing 1d arrays as data is deprecated in 0.17 and will raise ValueError in 0.19. Reshape your data either using X.reshape(-1, 1) if your data has a single feature or X.reshape(1, -1) if it contains a single sample.\n",
      "  DeprecationWarning)\n"
     ]
    },
    {
     "data": {
      "text/plain": [
       "array([u'sentiment'], dtype=object)"
      ]
     },
     "execution_count": 20,
     "metadata": {},
     "output_type": "execute_result"
    }
   ],
   "source": [
    "sent = 'i think i forgot your name'\n",
    "svc.predict(spacy_get_vec(sent))"
   ]
  },
  {
   "cell_type": "code",
   "execution_count": 21,
   "metadata": {},
   "outputs": [
    {
     "name": "stderr",
     "output_type": "stream",
     "text": [
      "/usr/local/lib/python2.7/dist-packages/sklearn/utils/validation.py:395: DeprecationWarning: Passing 1d arrays as data is deprecated in 0.17 and will raise ValueError in 0.19. Reshape your data either using X.reshape(-1, 1) if your data has a single feature or X.reshape(1, -1) if it contains a single sample.\n",
      "  DeprecationWarning)\n"
     ]
    },
    {
     "data": {
      "text/plain": [
       "array([u'sentiment'], dtype=object)"
      ]
     },
     "execution_count": 21,
     "metadata": {},
     "output_type": "execute_result"
    }
   ],
   "source": [
    "sent = 'Hii'\n",
    "svc.predict(spacy_get_vec(sent))"
   ]
  },
  {
   "cell_type": "code",
   "execution_count": 18,
   "metadata": {},
   "outputs": [
    {
     "data": {
      "text/plain": [
       "SVC(C=1.0, cache_size=200, class_weight=None, coef0=0.0,\n",
       "  decision_function_shape='ovr', degree=3, gamma='auto_deprecated',\n",
       "  kernel='linear', max_iter=-1, probability=False, random_state=None,\n",
       "  shrinking=True, tol=0.001, verbose=False)"
      ]
     },
     "execution_count": 18,
     "metadata": {},
     "output_type": "execute_result"
    }
   ],
   "source": [
    "svc.fit(X, y)"
   ]
  },
  {
   "cell_type": "code",
   "execution_count": 19,
   "metadata": {},
   "outputs": [
    {
     "data": {
      "text/plain": [
       "['is_question.pkl']"
      ]
     },
     "execution_count": 19,
     "metadata": {},
     "output_type": "execute_result"
    }
   ],
   "source": [
    "from sklearn.externals import joblib\n",
    "joblib.dump(svc, 'is_question.pkl')"
   ]
  },
  {
   "cell_type": "code",
   "execution_count": null,
   "metadata": {
    "collapsed": true
   },
   "outputs": [],
   "source": []
  }
 ],
 "metadata": {
  "kernelspec": {
   "display_name": "Python 3",
   "language": "python",
   "name": "python3"
  },
  "language_info": {
   "codemirror_mode": {
    "name": "ipython",
    "version": 3
   },
   "file_extension": ".py",
   "mimetype": "text/x-python",
   "name": "python",
   "nbconvert_exporter": "python",
   "pygments_lexer": "ipython3",
   "version": "3.5.2"
  }
 },
 "nbformat": 4,
 "nbformat_minor": 1
}
