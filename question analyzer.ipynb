{
 "cells": [
  {
   "cell_type": "code",
   "execution_count": 1,
   "metadata": {
    "collapsed": true
   },
   "outputs": [],
   "source": [
    "import spacy\n",
    "import numpy as np\n",
    "import pandas as pd\n",
    "from stopwords import ENGLISH_STOP_WORDS\n",
    "import warnings\n",
    "from __future__ import unicode_literals\n",
    "warnings.filterwarnings(\"ignore\", category=DeprecationWarning)\n"
   ]
  },
  {
   "cell_type": "code",
   "execution_count": 2,
   "metadata": {
    "collapsed": true
   },
   "outputs": [],
   "source": [
    "#en_nlp = spacy.en.English()\n",
    "en_nlp=spacy.load('en')"
   ]
  },
  {
   "cell_type": "code",
   "execution_count": 3,
   "metadata": {
    "collapsed": true
   },
   "outputs": [],
   "source": [
    "def spacy_get_vec(sentence):\n",
    "    vec = np.zeros(384)\n",
    "    doc = en_nlp((sentence))\n",
    "    for word in doc:\n",
    "        #if word.lower_ in ENGLISH_STOP_WORDS:\n",
    "        #    continue\n",
    "        vec += word.vector\n",
    "    return vec"
   ]
  },
  {
   "cell_type": "code",
   "execution_count": 4,
   "metadata": {
    "collapsed": true
   },
   "outputs": [],
   "source": [
    "lines = open('./question.txt').readlines()\n",
    "vecs = []\n",
    "intents = []\n",
    "idfs = []\n",
    "for line in lines:\n",
    "    tokens = line.split(',')\n",
    "    sentence = tokens[0]\n",
    "    intent = tokens[1]\n",
    "    if intent[-1] == '\\n':\n",
    "        intent = intent[:-1]\n",
    "    vecs.append(spacy_get_vec(sentence))\n",
    "    intents.append(intent)\n",
    "    #idfs.append(get_idf(sentence))\n",
    "\n",
    "df = pd.DataFrame(vecs, columns=['vec_%d' % i for i in range(384)])\n",
    "#df['idf'] = idfs\n",
    "df['intents'] = intents\n",
    "df.intents = df.intents.astype('category')"
   ]
  },
  {
   "cell_type": "code",
   "execution_count": 5,
   "metadata": {},
   "outputs": [
    {
     "data": {
      "text/html": [
       "<div>\n",
       "<style>\n",
       "    .dataframe thead tr:only-child th {\n",
       "        text-align: right;\n",
       "    }\n",
       "\n",
       "    .dataframe thead th {\n",
       "        text-align: left;\n",
       "    }\n",
       "\n",
       "    .dataframe tbody tr th {\n",
       "        vertical-align: top;\n",
       "    }\n",
       "</style>\n",
       "<table border=\"1\" class=\"dataframe\">\n",
       "  <thead>\n",
       "    <tr style=\"text-align: right;\">\n",
       "      <th></th>\n",
       "      <th>vec_0</th>\n",
       "      <th>vec_1</th>\n",
       "      <th>vec_2</th>\n",
       "      <th>vec_3</th>\n",
       "      <th>vec_4</th>\n",
       "      <th>vec_5</th>\n",
       "      <th>vec_6</th>\n",
       "      <th>vec_7</th>\n",
       "      <th>vec_8</th>\n",
       "      <th>vec_9</th>\n",
       "      <th>...</th>\n",
       "      <th>vec_375</th>\n",
       "      <th>vec_376</th>\n",
       "      <th>vec_377</th>\n",
       "      <th>vec_378</th>\n",
       "      <th>vec_379</th>\n",
       "      <th>vec_380</th>\n",
       "      <th>vec_381</th>\n",
       "      <th>vec_382</th>\n",
       "      <th>vec_383</th>\n",
       "      <th>intents</th>\n",
       "    </tr>\n",
       "  </thead>\n",
       "  <tbody>\n",
       "    <tr>\n",
       "      <th>0</th>\n",
       "      <td>-3.543652</td>\n",
       "      <td>4.848562</td>\n",
       "      <td>4.919341</td>\n",
       "      <td>13.844563</td>\n",
       "      <td>5.203950</td>\n",
       "      <td>-0.971813</td>\n",
       "      <td>-2.271860</td>\n",
       "      <td>2.404070</td>\n",
       "      <td>4.035475</td>\n",
       "      <td>6.618456</td>\n",
       "      <td>...</td>\n",
       "      <td>0.278471</td>\n",
       "      <td>0.737995</td>\n",
       "      <td>-0.844568</td>\n",
       "      <td>0.292816</td>\n",
       "      <td>1.108275</td>\n",
       "      <td>-0.625411</td>\n",
       "      <td>0.886418</td>\n",
       "      <td>1.066385</td>\n",
       "      <td>1.134127</td>\n",
       "      <td>name</td>\n",
       "    </tr>\n",
       "    <tr>\n",
       "      <th>1</th>\n",
       "      <td>5.643370</td>\n",
       "      <td>-1.788185</td>\n",
       "      <td>11.669976</td>\n",
       "      <td>5.293034</td>\n",
       "      <td>4.905268</td>\n",
       "      <td>2.301256</td>\n",
       "      <td>3.591100</td>\n",
       "      <td>-3.610936</td>\n",
       "      <td>-0.577742</td>\n",
       "      <td>3.764210</td>\n",
       "      <td>...</td>\n",
       "      <td>0.364541</td>\n",
       "      <td>0.103859</td>\n",
       "      <td>-0.135133</td>\n",
       "      <td>0.627274</td>\n",
       "      <td>1.794037</td>\n",
       "      <td>-0.896731</td>\n",
       "      <td>1.003043</td>\n",
       "      <td>0.172758</td>\n",
       "      <td>0.383363</td>\n",
       "      <td>name</td>\n",
       "    </tr>\n",
       "    <tr>\n",
       "      <th>2</th>\n",
       "      <td>-1.656146</td>\n",
       "      <td>-3.490586</td>\n",
       "      <td>9.790032</td>\n",
       "      <td>7.341413</td>\n",
       "      <td>5.708977</td>\n",
       "      <td>2.287670</td>\n",
       "      <td>1.429370</td>\n",
       "      <td>-1.337799</td>\n",
       "      <td>3.224365</td>\n",
       "      <td>3.973423</td>\n",
       "      <td>...</td>\n",
       "      <td>0.381141</td>\n",
       "      <td>0.415805</td>\n",
       "      <td>-0.634530</td>\n",
       "      <td>0.283914</td>\n",
       "      <td>1.596852</td>\n",
       "      <td>-0.837435</td>\n",
       "      <td>0.489029</td>\n",
       "      <td>1.138625</td>\n",
       "      <td>0.622295</td>\n",
       "      <td>name</td>\n",
       "    </tr>\n",
       "    <tr>\n",
       "      <th>3</th>\n",
       "      <td>1.293344</td>\n",
       "      <td>3.555448</td>\n",
       "      <td>12.452135</td>\n",
       "      <td>5.784851</td>\n",
       "      <td>-2.995595</td>\n",
       "      <td>10.809371</td>\n",
       "      <td>-4.327154</td>\n",
       "      <td>-0.921649</td>\n",
       "      <td>2.327775</td>\n",
       "      <td>8.620191</td>\n",
       "      <td>...</td>\n",
       "      <td>0.787688</td>\n",
       "      <td>0.961237</td>\n",
       "      <td>-0.608474</td>\n",
       "      <td>0.349756</td>\n",
       "      <td>1.407382</td>\n",
       "      <td>-0.791489</td>\n",
       "      <td>0.703010</td>\n",
       "      <td>2.186781</td>\n",
       "      <td>0.517962</td>\n",
       "      <td>name</td>\n",
       "    </tr>\n",
       "    <tr>\n",
       "      <th>4</th>\n",
       "      <td>4.153239</td>\n",
       "      <td>6.531323</td>\n",
       "      <td>13.412330</td>\n",
       "      <td>2.088275</td>\n",
       "      <td>5.419556</td>\n",
       "      <td>2.024746</td>\n",
       "      <td>-2.581261</td>\n",
       "      <td>-3.334134</td>\n",
       "      <td>0.208024</td>\n",
       "      <td>6.853853</td>\n",
       "      <td>...</td>\n",
       "      <td>1.340130</td>\n",
       "      <td>0.999525</td>\n",
       "      <td>-1.148018</td>\n",
       "      <td>0.732091</td>\n",
       "      <td>1.861112</td>\n",
       "      <td>-0.490642</td>\n",
       "      <td>0.414732</td>\n",
       "      <td>1.869674</td>\n",
       "      <td>1.112716</td>\n",
       "      <td>name</td>\n",
       "    </tr>\n",
       "    <tr>\n",
       "      <th>5</th>\n",
       "      <td>7.831067</td>\n",
       "      <td>-2.849134</td>\n",
       "      <td>12.220646</td>\n",
       "      <td>4.811266</td>\n",
       "      <td>6.354322</td>\n",
       "      <td>-1.116443</td>\n",
       "      <td>0.997382</td>\n",
       "      <td>-7.557665</td>\n",
       "      <td>0.285819</td>\n",
       "      <td>-0.831057</td>\n",
       "      <td>...</td>\n",
       "      <td>0.112487</td>\n",
       "      <td>0.110709</td>\n",
       "      <td>-0.479749</td>\n",
       "      <td>0.964044</td>\n",
       "      <td>2.495846</td>\n",
       "      <td>-0.488649</td>\n",
       "      <td>0.403862</td>\n",
       "      <td>1.576550</td>\n",
       "      <td>-0.271851</td>\n",
       "      <td>name</td>\n",
       "    </tr>\n",
       "    <tr>\n",
       "      <th>6</th>\n",
       "      <td>0.831167</td>\n",
       "      <td>-1.640797</td>\n",
       "      <td>10.277429</td>\n",
       "      <td>7.369606</td>\n",
       "      <td>5.822305</td>\n",
       "      <td>2.301420</td>\n",
       "      <td>3.385551</td>\n",
       "      <td>-0.424612</td>\n",
       "      <td>2.688910</td>\n",
       "      <td>0.313156</td>\n",
       "      <td>...</td>\n",
       "      <td>0.174171</td>\n",
       "      <td>0.535187</td>\n",
       "      <td>-0.426263</td>\n",
       "      <td>-0.461186</td>\n",
       "      <td>1.373420</td>\n",
       "      <td>0.006966</td>\n",
       "      <td>1.253729</td>\n",
       "      <td>1.917415</td>\n",
       "      <td>1.136800</td>\n",
       "      <td>name</td>\n",
       "    </tr>\n",
       "    <tr>\n",
       "      <th>7</th>\n",
       "      <td>3.870726</td>\n",
       "      <td>-0.750165</td>\n",
       "      <td>8.419325</td>\n",
       "      <td>0.993593</td>\n",
       "      <td>4.111084</td>\n",
       "      <td>-1.089855</td>\n",
       "      <td>-1.959931</td>\n",
       "      <td>-3.264334</td>\n",
       "      <td>2.925440</td>\n",
       "      <td>2.240141</td>\n",
       "      <td>...</td>\n",
       "      <td>0.908486</td>\n",
       "      <td>0.034517</td>\n",
       "      <td>-0.306704</td>\n",
       "      <td>0.796868</td>\n",
       "      <td>1.662183</td>\n",
       "      <td>-1.061653</td>\n",
       "      <td>0.973119</td>\n",
       "      <td>0.577741</td>\n",
       "      <td>0.380746</td>\n",
       "      <td>name</td>\n",
       "    </tr>\n",
       "    <tr>\n",
       "      <th>8</th>\n",
       "      <td>-1.656146</td>\n",
       "      <td>-3.490586</td>\n",
       "      <td>9.790032</td>\n",
       "      <td>7.341413</td>\n",
       "      <td>5.708977</td>\n",
       "      <td>2.287670</td>\n",
       "      <td>1.429370</td>\n",
       "      <td>-1.337799</td>\n",
       "      <td>3.224365</td>\n",
       "      <td>3.973423</td>\n",
       "      <td>...</td>\n",
       "      <td>0.381141</td>\n",
       "      <td>0.415805</td>\n",
       "      <td>-0.634530</td>\n",
       "      <td>0.283914</td>\n",
       "      <td>1.596852</td>\n",
       "      <td>-0.837435</td>\n",
       "      <td>0.489029</td>\n",
       "      <td>1.138625</td>\n",
       "      <td>0.622295</td>\n",
       "      <td>name</td>\n",
       "    </tr>\n",
       "    <tr>\n",
       "      <th>9</th>\n",
       "      <td>7.717528</td>\n",
       "      <td>-0.098212</td>\n",
       "      <td>7.097780</td>\n",
       "      <td>13.344487</td>\n",
       "      <td>-5.314187</td>\n",
       "      <td>9.025711</td>\n",
       "      <td>-1.001992</td>\n",
       "      <td>-4.040305</td>\n",
       "      <td>8.524757</td>\n",
       "      <td>-1.291224</td>\n",
       "      <td>...</td>\n",
       "      <td>0.472477</td>\n",
       "      <td>0.061492</td>\n",
       "      <td>-0.604970</td>\n",
       "      <td>0.359515</td>\n",
       "      <td>1.386781</td>\n",
       "      <td>-0.042573</td>\n",
       "      <td>1.397350</td>\n",
       "      <td>1.775708</td>\n",
       "      <td>-0.164133</td>\n",
       "      <td>name</td>\n",
       "    </tr>\n",
       "  </tbody>\n",
       "</table>\n",
       "<p>10 rows × 385 columns</p>\n",
       "</div>"
      ],
      "text/plain": [
       "      vec_0     vec_1      vec_2      vec_3     vec_4      vec_5     vec_6  \\\n",
       "0 -3.543652  4.848562   4.919341  13.844563  5.203950  -0.971813 -2.271860   \n",
       "1  5.643370 -1.788185  11.669976   5.293034  4.905268   2.301256  3.591100   \n",
       "2 -1.656146 -3.490586   9.790032   7.341413  5.708977   2.287670  1.429370   \n",
       "3  1.293344  3.555448  12.452135   5.784851 -2.995595  10.809371 -4.327154   \n",
       "4  4.153239  6.531323  13.412330   2.088275  5.419556   2.024746 -2.581261   \n",
       "5  7.831067 -2.849134  12.220646   4.811266  6.354322  -1.116443  0.997382   \n",
       "6  0.831167 -1.640797  10.277429   7.369606  5.822305   2.301420  3.385551   \n",
       "7  3.870726 -0.750165   8.419325   0.993593  4.111084  -1.089855 -1.959931   \n",
       "8 -1.656146 -3.490586   9.790032   7.341413  5.708977   2.287670  1.429370   \n",
       "9  7.717528 -0.098212   7.097780  13.344487 -5.314187   9.025711 -1.001992   \n",
       "\n",
       "      vec_7     vec_8     vec_9   ...      vec_375   vec_376   vec_377  \\\n",
       "0  2.404070  4.035475  6.618456   ...     0.278471  0.737995 -0.844568   \n",
       "1 -3.610936 -0.577742  3.764210   ...     0.364541  0.103859 -0.135133   \n",
       "2 -1.337799  3.224365  3.973423   ...     0.381141  0.415805 -0.634530   \n",
       "3 -0.921649  2.327775  8.620191   ...     0.787688  0.961237 -0.608474   \n",
       "4 -3.334134  0.208024  6.853853   ...     1.340130  0.999525 -1.148018   \n",
       "5 -7.557665  0.285819 -0.831057   ...     0.112487  0.110709 -0.479749   \n",
       "6 -0.424612  2.688910  0.313156   ...     0.174171  0.535187 -0.426263   \n",
       "7 -3.264334  2.925440  2.240141   ...     0.908486  0.034517 -0.306704   \n",
       "8 -1.337799  3.224365  3.973423   ...     0.381141  0.415805 -0.634530   \n",
       "9 -4.040305  8.524757 -1.291224   ...     0.472477  0.061492 -0.604970   \n",
       "\n",
       "    vec_378   vec_379   vec_380   vec_381   vec_382   vec_383  intents  \n",
       "0  0.292816  1.108275 -0.625411  0.886418  1.066385  1.134127     name  \n",
       "1  0.627274  1.794037 -0.896731  1.003043  0.172758  0.383363     name  \n",
       "2  0.283914  1.596852 -0.837435  0.489029  1.138625  0.622295     name  \n",
       "3  0.349756  1.407382 -0.791489  0.703010  2.186781  0.517962     name  \n",
       "4  0.732091  1.861112 -0.490642  0.414732  1.869674  1.112716     name  \n",
       "5  0.964044  2.495846 -0.488649  0.403862  1.576550 -0.271851     name  \n",
       "6 -0.461186  1.373420  0.006966  1.253729  1.917415  1.136800     name  \n",
       "7  0.796868  1.662183 -1.061653  0.973119  0.577741  0.380746     name  \n",
       "8  0.283914  1.596852 -0.837435  0.489029  1.138625  0.622295     name  \n",
       "9  0.359515  1.386781 -0.042573  1.397350  1.775708 -0.164133     name  \n",
       "\n",
       "[10 rows x 385 columns]"
      ]
     },
     "execution_count": 5,
     "metadata": {},
     "output_type": "execute_result"
    }
   ],
   "source": [
    "df.head(10)"
   ]
  },
  {
   "cell_type": "code",
   "execution_count": 6,
   "metadata": {
    "collapsed": true
   },
   "outputs": [],
   "source": [
    "from sklearn.utils import shuffle\n",
    "df = shuffle(df)"
   ]
  },
  {
   "cell_type": "code",
   "execution_count": 7,
   "metadata": {
    "collapsed": true
   },
   "outputs": [],
   "source": [
    "X = df.iloc[:, :-1].values\n",
    "y = df.iloc[:,-1:].values.ravel()"
   ]
  },
  {
   "cell_type": "code",
   "execution_count": 8,
   "metadata": {},
   "outputs": [
    {
     "name": "stderr",
     "output_type": "stream",
     "text": [
      "/usr/local/lib/python2.7/dist-packages/sklearn/cross_validation.py:44: DeprecationWarning: This module was deprecated in version 0.18 in favor of the model_selection module into which all the refactored classes and functions are moved. Also note that the interface of the new CV iterators are different from that of this module. This module will be removed in 0.20.\n",
      "  \"This module will be removed in 0.20.\", DeprecationWarning)\n"
     ]
    }
   ],
   "source": [
    "from sklearn.cross_validation import train_test_split\n",
    "X_train,X_val,y_train,y_val = train_test_split(X, y, test_size=0.20)"
   ]
  },
  {
   "cell_type": "code",
   "execution_count": 9,
   "metadata": {},
   "outputs": [
    {
     "name": "stdout",
     "output_type": "stream",
     "text": [
      "0.833333333333\n"
     ]
    }
   ],
   "source": [
    "from sklearn.linear_model import LogisticRegression\n",
    "logit_model = LogisticRegression()\n",
    "logit_model.fit(X_train, y_train)\n",
    "print(logit_model.score(X_val, y_val))\n"
   ]
  },
  {
   "cell_type": "code",
   "execution_count": 10,
   "metadata": {},
   "outputs": [
    {
     "name": "stdout",
     "output_type": "stream",
     "text": [
      "0.666666666667\n"
     ]
    }
   ],
   "source": [
    "from sklearn.ensemble import GradientBoostingClassifier\n",
    "gradboost = GradientBoostingClassifier(n_estimators=600, max_depth=30, learning_rate=0.01)\n",
    "gradboost.fit(X_train, y_train)\n",
    "print(gradboost.score(X_val, y_val))\n"
   ]
  },
  {
   "cell_type": "code",
   "execution_count": 11,
   "metadata": {},
   "outputs": [
    {
     "name": "stdout",
     "output_type": "stream",
     "text": [
      "[[ -8.81953237e+00  -8.81157917e+00  -7.96046149e-04  -8.68235072e+00\n",
      "   -8.70572591e+00  -8.71730751e+00]]\n",
      "[u'location']\n"
     ]
    },
    {
     "name": "stderr",
     "output_type": "stream",
     "text": [
      "/usr/local/lib/python2.7/dist-packages/sklearn/utils/validation.py:395: DeprecationWarning: Passing 1d arrays as data is deprecated in 0.17 and will raise ValueError in 0.19. Reshape your data either using X.reshape(-1, 1) if your data has a single feature or X.reshape(1, -1) if it contains a single sample.\n",
      "  DeprecationWarning)\n",
      "/usr/local/lib/python2.7/dist-packages/sklearn/utils/validation.py:395: DeprecationWarning: Passing 1d arrays as data is deprecated in 0.17 and will raise ValueError in 0.19. Reshape your data either using X.reshape(-1, 1) if your data has a single feature or X.reshape(1, -1) if it contains a single sample.\n",
      "  DeprecationWarning)\n"
     ]
    }
   ],
   "source": [
    "sent = 'do you live in the computer'\n",
    "print(gradboost.predict_log_proba(spacy_get_vec(sent)))\n",
    "print(gradboost.predict(spacy_get_vec(sent)))"
   ]
  },
  {
   "cell_type": "code",
   "execution_count": 12,
   "metadata": {},
   "outputs": [
    {
     "name": "stdout",
     "output_type": "stream",
     "text": [
      "[[ -9.17711136e+00  -9.16915816e+00  -9.02683503e+00  -9.04073123e+00\n",
      "   -5.60872124e-04  -9.07488650e+00]]\n",
      "[u'name']\n"
     ]
    },
    {
     "name": "stderr",
     "output_type": "stream",
     "text": [
      "/usr/local/lib/python2.7/dist-packages/sklearn/utils/validation.py:395: DeprecationWarning: Passing 1d arrays as data is deprecated in 0.17 and will raise ValueError in 0.19. Reshape your data either using X.reshape(-1, 1) if your data has a single feature or X.reshape(1, -1) if it contains a single sample.\n",
      "  DeprecationWarning)\n",
      "/usr/local/lib/python2.7/dist-packages/sklearn/utils/validation.py:395: DeprecationWarning: Passing 1d arrays as data is deprecated in 0.17 and will raise ValueError in 0.19. Reshape your data either using X.reshape(-1, 1) if your data has a single feature or X.reshape(1, -1) if it contains a single sample.\n",
      "  DeprecationWarning)\n"
     ]
    }
   ],
   "source": [
    "sent = 'how does your mom call you'\n",
    "print(gradboost.predict_log_proba(spacy_get_vec(sent)))\n",
    "print(gradboost.predict(spacy_get_vec(sent)))"
   ]
  },
  {
   "cell_type": "code",
   "execution_count": 13,
   "metadata": {},
   "outputs": [
    {
     "name": "stdout",
     "output_type": "stream",
     "text": [
      "[[-9.39218666 -9.38423345 -9.24191033 -9.21899022 -1.33852408 -0.30461918]]\n",
      "[u'users_name']\n"
     ]
    },
    {
     "name": "stderr",
     "output_type": "stream",
     "text": [
      "/usr/local/lib/python2.7/dist-packages/sklearn/utils/validation.py:395: DeprecationWarning: Passing 1d arrays as data is deprecated in 0.17 and will raise ValueError in 0.19. Reshape your data either using X.reshape(-1, 1) if your data has a single feature or X.reshape(1, -1) if it contains a single sample.\n",
      "  DeprecationWarning)\n",
      "/usr/local/lib/python2.7/dist-packages/sklearn/utils/validation.py:395: DeprecationWarning: Passing 1d arrays as data is deprecated in 0.17 and will raise ValueError in 0.19. Reshape your data either using X.reshape(-1, 1) if your data has a single feature or X.reshape(1, -1) if it contains a single sample.\n",
      "  DeprecationWarning)\n"
     ]
    }
   ],
   "source": [
    "sent = 'how does my mom call me'\n",
    "print(gradboost.predict_log_proba(spacy_get_vec(sent)))\n",
    "print(gradboost.predict(spacy_get_vec(sent)))"
   ]
  },
  {
   "cell_type": "code",
   "execution_count": 14,
   "metadata": {},
   "outputs": [
    {
     "data": {
      "text/plain": [
       "array([u'bot', u'greet_response', u'location', u'marriage', u'name',\n",
       "       u'users_name'], dtype=object)"
      ]
     },
     "execution_count": 14,
     "metadata": {},
     "output_type": "execute_result"
    }
   ],
   "source": [
    "gradboost.classes_"
   ]
  },
  {
   "cell_type": "code",
   "execution_count": 15,
   "metadata": {},
   "outputs": [
    {
     "data": {
      "text/plain": [
       "LinearSVC(C=1.0, class_weight=None, dual=True, fit_intercept=True,\n",
       "     intercept_scaling=1, loss='squared_hinge', max_iter=1000,\n",
       "     multi_class=u'ovr', penalty='l2', random_state=None, tol=0.0001,\n",
       "     verbose=0)"
      ]
     },
     "execution_count": 15,
     "metadata": {},
     "output_type": "execute_result"
    }
   ],
   "source": [
    "from sklearn.svm import LinearSVC\n",
    "svcmodel=LinearSVC(multi_class='ovr')\n",
    "svcmodel.fit(X_train,y_train)"
   ]
  },
  {
   "cell_type": "code",
   "execution_count": 16,
   "metadata": {},
   "outputs": [
    {
     "data": {
      "text/plain": [
       "0.83333333333333337"
      ]
     },
     "execution_count": 16,
     "metadata": {},
     "output_type": "execute_result"
    }
   ],
   "source": [
    "svcmodel.score(X_val,y_val)"
   ]
  },
  {
   "cell_type": "code",
   "execution_count": 17,
   "metadata": {},
   "outputs": [
    {
     "name": "stdout",
     "output_type": "stream",
     "text": [
      "[u'location']\n"
     ]
    },
    {
     "name": "stderr",
     "output_type": "stream",
     "text": [
      "/usr/local/lib/python2.7/dist-packages/sklearn/utils/validation.py:395: DeprecationWarning: Passing 1d arrays as data is deprecated in 0.17 and will raise ValueError in 0.19. Reshape your data either using X.reshape(-1, 1) if your data has a single feature or X.reshape(1, -1) if it contains a single sample.\n",
      "  DeprecationWarning)\n"
     ]
    }
   ],
   "source": [
    "sent = 'do you live in the computer'\n",
    "#print(svcmodel.predict_log_proba(spacy_get_vec(sent)))\n",
    "print(svcmodel.predict(spacy_get_vec(sent)))"
   ]
  },
  {
   "cell_type": "code",
   "execution_count": 18,
   "metadata": {},
   "outputs": [
    {
     "name": "stderr",
     "output_type": "stream",
     "text": [
      "/usr/local/lib/python2.7/dist-packages/sklearn/utils/validation.py:395: DeprecationWarning: Passing 1d arrays as data is deprecated in 0.17 and will raise ValueError in 0.19. Reshape your data either using X.reshape(-1, 1) if your data has a single feature or X.reshape(1, -1) if it contains a single sample.\n",
      "  DeprecationWarning)\n"
     ]
    },
    {
     "name": "stdout",
     "output_type": "stream",
     "text": [
      "[[ -9.17711136e+00  -9.16915816e+00  -9.02683503e+00  -9.04073123e+00\n",
      "   -5.60872124e-04  -9.07488650e+00]]\n",
      "[u'name']\n"
     ]
    },
    {
     "name": "stderr",
     "output_type": "stream",
     "text": [
      "/usr/local/lib/python2.7/dist-packages/sklearn/utils/validation.py:395: DeprecationWarning: Passing 1d arrays as data is deprecated in 0.17 and will raise ValueError in 0.19. Reshape your data either using X.reshape(-1, 1) if your data has a single feature or X.reshape(1, -1) if it contains a single sample.\n",
      "  DeprecationWarning)\n"
     ]
    }
   ],
   "source": [
    "sent = 'how does your mom call you'\n",
    "print(gradboost.predict_log_proba(spacy_get_vec(sent)))\n",
    "print(gradboost.predict(spacy_get_vec(sent)))"
   ]
  },
  {
   "cell_type": "code",
   "execution_count": 19,
   "metadata": {},
   "outputs": [
    {
     "data": {
      "text/plain": [
       "MultinomialNB(alpha=1.7, class_prior=None, fit_prior=True)"
      ]
     },
     "execution_count": 19,
     "metadata": {},
     "output_type": "execute_result"
    }
   ],
   "source": [
    "from sklearn.naive_bayes import MultinomialNB\n",
    "mnb= MultinomialNB(alpha=1.7)\n",
    "mnb.fit(abs(X_train), y_train)"
   ]
  },
  {
   "cell_type": "code",
   "execution_count": 20,
   "metadata": {},
   "outputs": [
    {
     "data": {
      "text/plain": [
       "0.91666666666666663"
      ]
     },
     "execution_count": 20,
     "metadata": {},
     "output_type": "execute_result"
    }
   ],
   "source": [
    "mnb.score(abs(X_val), y_val)"
   ]
  },
  {
   "cell_type": "code",
   "execution_count": 21,
   "metadata": {},
   "outputs": [
    {
     "data": {
      "text/plain": [
       "LinearSVC(C=1.0, class_weight=None, dual=True, fit_intercept=True,\n",
       "     intercept_scaling=1, loss='squared_hinge', max_iter=1000,\n",
       "     multi_class=u'ovr', penalty='l2', random_state=None, tol=0.0001,\n",
       "     verbose=0)"
      ]
     },
     "execution_count": 21,
     "metadata": {},
     "output_type": "execute_result"
    }
   ],
   "source": [
    "svcmodel.fit(X,y)"
   ]
  },
  {
   "cell_type": "code",
   "execution_count": 22,
   "metadata": {},
   "outputs": [
    {
     "data": {
      "text/plain": [
       "[u'question.pkl']"
      ]
     },
     "execution_count": 22,
     "metadata": {},
     "output_type": "execute_result"
    }
   ],
   "source": [
    "from sklearn.externals import joblib\n",
    "joblib.dump(svcmodel, 'question.pkl')"
   ]
  },
  {
   "cell_type": "code",
   "execution_count": null,
   "metadata": {
    "collapsed": true
   },
   "outputs": [],
   "source": []
  },
  {
   "cell_type": "code",
   "execution_count": null,
   "metadata": {
    "collapsed": true
   },
   "outputs": [],
   "source": []
  },
  {
   "cell_type": "code",
   "execution_count": null,
   "metadata": {
    "collapsed": true
   },
   "outputs": [],
   "source": []
  }
 ],
 "metadata": {
  "kernelspec": {
   "display_name": "Python 2",
   "language": "python",
   "name": "python2"
  },
  "language_info": {
   "codemirror_mode": {
    "name": "ipython",
    "version": 2
   },
   "file_extension": ".py",
   "mimetype": "text/x-python",
   "name": "python",
   "nbconvert_exporter": "python",
   "pygments_lexer": "ipython2",
   "version": "2.7.12"
  }
 },
 "nbformat": 4,
 "nbformat_minor": 1
}
