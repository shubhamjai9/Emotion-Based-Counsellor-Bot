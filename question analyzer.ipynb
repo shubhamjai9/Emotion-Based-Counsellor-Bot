{
 "cells": [
  {
   "cell_type": "code",
   "execution_count": 1,
   "metadata": {},
   "outputs": [],
   "source": [
    "import spacy\n",
    "import numpy as np\n",
    "import pandas as pd\n",
    "from stopwords import ENGLISH_STOP_WORDS\n",
    "import warnings\n",
    "# from __future__ import unicode_literals\n",
    "warnings.filterwarnings(\"ignore\", category=DeprecationWarning)\n"
   ]
  },
  {
   "cell_type": "code",
   "execution_count": 2,
   "metadata": {},
   "outputs": [],
   "source": [
    "#en_nlp = spacy.en.English()\n",
    "en_nlp=spacy.load('en')"
   ]
  },
  {
   "cell_type": "code",
   "execution_count": 3,
   "metadata": {},
   "outputs": [],
   "source": [
    "def spacy_get_vec(sentence):\n",
    "    vec = np.zeros(96)\n",
    "    doc = en_nlp((sentence))\n",
    "    for word in doc:\n",
    "        #if word.lower_ in ENGLISH_STOP_WORDS:\n",
    "        #    continue\n",
    "        vec += word.vector\n",
    "    return vec"
   ]
  },
  {
   "cell_type": "code",
   "execution_count": 4,
   "metadata": {},
   "outputs": [],
   "source": [
    "lines = open('./question.txt').readlines()\n",
    "vecs = []\n",
    "intents = []\n",
    "idfs = []\n",
    "for line in lines:\n",
    "    tokens = line.split(',')\n",
    "    sentence = tokens[0]\n",
    "    intent = tokens[1]\n",
    "    if intent[-1] == '\\n':\n",
    "        intent = intent[:-1]\n",
    "    vecs.append(spacy_get_vec(sentence))\n",
    "    intents.append(intent)\n",
    "    #idfs.append(get_idf(sentence))\n",
    "\n",
    "df = pd.DataFrame(vecs, columns=['vec_%d' % i for i in range(96)])\n",
    "#df['idf'] = idfs\n",
    "df['intents'] = intents\n",
    "df.intents = df.intents.astype('category')"
   ]
  },
  {
   "cell_type": "code",
   "execution_count": 5,
   "metadata": {},
   "outputs": [
    {
     "data": {
      "text/html": [
       "<div>\n",
       "<style scoped>\n",
       "    .dataframe tbody tr th:only-of-type {\n",
       "        vertical-align: middle;\n",
       "    }\n",
       "\n",
       "    .dataframe tbody tr th {\n",
       "        vertical-align: top;\n",
       "    }\n",
       "\n",
       "    .dataframe thead th {\n",
       "        text-align: right;\n",
       "    }\n",
       "</style>\n",
       "<table border=\"1\" class=\"dataframe\">\n",
       "  <thead>\n",
       "    <tr style=\"text-align: right;\">\n",
       "      <th></th>\n",
       "      <th>vec_0</th>\n",
       "      <th>vec_1</th>\n",
       "      <th>vec_2</th>\n",
       "      <th>vec_3</th>\n",
       "      <th>vec_4</th>\n",
       "      <th>vec_5</th>\n",
       "      <th>vec_6</th>\n",
       "      <th>vec_7</th>\n",
       "      <th>vec_8</th>\n",
       "      <th>vec_9</th>\n",
       "      <th>...</th>\n",
       "      <th>vec_87</th>\n",
       "      <th>vec_88</th>\n",
       "      <th>vec_89</th>\n",
       "      <th>vec_90</th>\n",
       "      <th>vec_91</th>\n",
       "      <th>vec_92</th>\n",
       "      <th>vec_93</th>\n",
       "      <th>vec_94</th>\n",
       "      <th>vec_95</th>\n",
       "      <th>intents</th>\n",
       "    </tr>\n",
       "  </thead>\n",
       "  <tbody>\n",
       "    <tr>\n",
       "      <th>0</th>\n",
       "      <td>-1.759996</td>\n",
       "      <td>-8.420905</td>\n",
       "      <td>2.276270</td>\n",
       "      <td>-1.162590</td>\n",
       "      <td>3.844770</td>\n",
       "      <td>2.840463</td>\n",
       "      <td>-0.753364</td>\n",
       "      <td>2.957269</td>\n",
       "      <td>7.470058</td>\n",
       "      <td>10.314044</td>\n",
       "      <td>...</td>\n",
       "      <td>-5.669944</td>\n",
       "      <td>-1.547058</td>\n",
       "      <td>6.627383</td>\n",
       "      <td>-3.218885</td>\n",
       "      <td>3.190382</td>\n",
       "      <td>1.464900</td>\n",
       "      <td>-4.386830</td>\n",
       "      <td>-3.636473</td>\n",
       "      <td>1.751198</td>\n",
       "      <td>name</td>\n",
       "    </tr>\n",
       "    <tr>\n",
       "      <th>1</th>\n",
       "      <td>9.556392</td>\n",
       "      <td>-4.143117</td>\n",
       "      <td>10.756072</td>\n",
       "      <td>-1.359590</td>\n",
       "      <td>-12.705752</td>\n",
       "      <td>-3.072276</td>\n",
       "      <td>-5.545203</td>\n",
       "      <td>-1.486757</td>\n",
       "      <td>-0.434437</td>\n",
       "      <td>13.304896</td>\n",
       "      <td>...</td>\n",
       "      <td>-3.842945</td>\n",
       "      <td>-2.357140</td>\n",
       "      <td>18.024444</td>\n",
       "      <td>-2.828745</td>\n",
       "      <td>-4.346139</td>\n",
       "      <td>18.625840</td>\n",
       "      <td>-6.762220</td>\n",
       "      <td>4.041664</td>\n",
       "      <td>1.481203</td>\n",
       "      <td>name</td>\n",
       "    </tr>\n",
       "    <tr>\n",
       "      <th>2</th>\n",
       "      <td>6.220093</td>\n",
       "      <td>-5.076341</td>\n",
       "      <td>2.791780</td>\n",
       "      <td>-5.896989</td>\n",
       "      <td>-14.144672</td>\n",
       "      <td>-1.569555</td>\n",
       "      <td>-10.525382</td>\n",
       "      <td>-7.483668</td>\n",
       "      <td>2.840772</td>\n",
       "      <td>10.478342</td>\n",
       "      <td>...</td>\n",
       "      <td>1.345230</td>\n",
       "      <td>-4.289471</td>\n",
       "      <td>14.988673</td>\n",
       "      <td>-3.042850</td>\n",
       "      <td>0.525640</td>\n",
       "      <td>24.159926</td>\n",
       "      <td>-2.263616</td>\n",
       "      <td>2.899887</td>\n",
       "      <td>4.113554</td>\n",
       "      <td>name</td>\n",
       "    </tr>\n",
       "    <tr>\n",
       "      <th>3</th>\n",
       "      <td>3.689054</td>\n",
       "      <td>0.810873</td>\n",
       "      <td>4.189868</td>\n",
       "      <td>-6.209874</td>\n",
       "      <td>-10.413410</td>\n",
       "      <td>4.986526</td>\n",
       "      <td>-2.821653</td>\n",
       "      <td>-2.500333</td>\n",
       "      <td>0.190013</td>\n",
       "      <td>11.839452</td>\n",
       "      <td>...</td>\n",
       "      <td>-8.401937</td>\n",
       "      <td>-1.275353</td>\n",
       "      <td>6.801534</td>\n",
       "      <td>-7.838282</td>\n",
       "      <td>3.462574</td>\n",
       "      <td>21.809196</td>\n",
       "      <td>-2.253262</td>\n",
       "      <td>-1.382785</td>\n",
       "      <td>8.578007</td>\n",
       "      <td>name</td>\n",
       "    </tr>\n",
       "    <tr>\n",
       "      <th>4</th>\n",
       "      <td>3.607861</td>\n",
       "      <td>4.336752</td>\n",
       "      <td>6.148700</td>\n",
       "      <td>-5.055354</td>\n",
       "      <td>-12.857260</td>\n",
       "      <td>3.716480</td>\n",
       "      <td>3.296282</td>\n",
       "      <td>-3.805648</td>\n",
       "      <td>-4.982093</td>\n",
       "      <td>15.203674</td>\n",
       "      <td>...</td>\n",
       "      <td>-15.804678</td>\n",
       "      <td>3.829497</td>\n",
       "      <td>8.984690</td>\n",
       "      <td>-2.952568</td>\n",
       "      <td>-0.446337</td>\n",
       "      <td>15.480394</td>\n",
       "      <td>0.490406</td>\n",
       "      <td>0.078620</td>\n",
       "      <td>2.116596</td>\n",
       "      <td>name</td>\n",
       "    </tr>\n",
       "    <tr>\n",
       "      <th>5</th>\n",
       "      <td>5.417962</td>\n",
       "      <td>-0.033732</td>\n",
       "      <td>5.287983</td>\n",
       "      <td>-6.812062</td>\n",
       "      <td>-13.363475</td>\n",
       "      <td>1.552076</td>\n",
       "      <td>-5.805094</td>\n",
       "      <td>-1.555635</td>\n",
       "      <td>-1.880611</td>\n",
       "      <td>13.349326</td>\n",
       "      <td>...</td>\n",
       "      <td>-4.537413</td>\n",
       "      <td>-1.163738</td>\n",
       "      <td>8.648477</td>\n",
       "      <td>-5.198575</td>\n",
       "      <td>0.031843</td>\n",
       "      <td>15.966703</td>\n",
       "      <td>0.642479</td>\n",
       "      <td>8.165331</td>\n",
       "      <td>0.568275</td>\n",
       "      <td>name</td>\n",
       "    </tr>\n",
       "    <tr>\n",
       "      <th>6</th>\n",
       "      <td>5.659891</td>\n",
       "      <td>-6.080133</td>\n",
       "      <td>7.118525</td>\n",
       "      <td>-4.139761</td>\n",
       "      <td>-9.131500</td>\n",
       "      <td>-1.621250</td>\n",
       "      <td>-6.766408</td>\n",
       "      <td>-7.214301</td>\n",
       "      <td>6.137925</td>\n",
       "      <td>15.765751</td>\n",
       "      <td>...</td>\n",
       "      <td>-0.745241</td>\n",
       "      <td>-3.616721</td>\n",
       "      <td>14.099648</td>\n",
       "      <td>-2.818982</td>\n",
       "      <td>5.383953</td>\n",
       "      <td>15.527542</td>\n",
       "      <td>-3.013386</td>\n",
       "      <td>-1.775828</td>\n",
       "      <td>1.177742</td>\n",
       "      <td>name</td>\n",
       "    </tr>\n",
       "    <tr>\n",
       "      <th>7</th>\n",
       "      <td>10.605276</td>\n",
       "      <td>1.534121</td>\n",
       "      <td>7.547316</td>\n",
       "      <td>-3.753668</td>\n",
       "      <td>-6.778317</td>\n",
       "      <td>-1.711190</td>\n",
       "      <td>-2.080208</td>\n",
       "      <td>-0.661567</td>\n",
       "      <td>-5.063860</td>\n",
       "      <td>11.907645</td>\n",
       "      <td>...</td>\n",
       "      <td>0.057007</td>\n",
       "      <td>5.451145</td>\n",
       "      <td>14.363190</td>\n",
       "      <td>-1.573192</td>\n",
       "      <td>-4.511716</td>\n",
       "      <td>17.581675</td>\n",
       "      <td>-4.329326</td>\n",
       "      <td>0.226867</td>\n",
       "      <td>2.271344</td>\n",
       "      <td>name</td>\n",
       "    </tr>\n",
       "    <tr>\n",
       "      <th>8</th>\n",
       "      <td>6.220093</td>\n",
       "      <td>-5.076341</td>\n",
       "      <td>2.791780</td>\n",
       "      <td>-5.896989</td>\n",
       "      <td>-14.144672</td>\n",
       "      <td>-1.569555</td>\n",
       "      <td>-10.525382</td>\n",
       "      <td>-7.483668</td>\n",
       "      <td>2.840772</td>\n",
       "      <td>10.478342</td>\n",
       "      <td>...</td>\n",
       "      <td>1.345230</td>\n",
       "      <td>-4.289471</td>\n",
       "      <td>14.988673</td>\n",
       "      <td>-3.042850</td>\n",
       "      <td>0.525640</td>\n",
       "      <td>24.159926</td>\n",
       "      <td>-2.263616</td>\n",
       "      <td>2.899887</td>\n",
       "      <td>4.113554</td>\n",
       "      <td>name</td>\n",
       "    </tr>\n",
       "    <tr>\n",
       "      <th>9</th>\n",
       "      <td>5.765600</td>\n",
       "      <td>-5.092359</td>\n",
       "      <td>10.626873</td>\n",
       "      <td>-9.261091</td>\n",
       "      <td>-1.491605</td>\n",
       "      <td>7.644727</td>\n",
       "      <td>-2.877099</td>\n",
       "      <td>-2.109652</td>\n",
       "      <td>3.450187</td>\n",
       "      <td>11.730363</td>\n",
       "      <td>...</td>\n",
       "      <td>-7.019221</td>\n",
       "      <td>1.508247</td>\n",
       "      <td>-0.149125</td>\n",
       "      <td>-0.155668</td>\n",
       "      <td>4.082173</td>\n",
       "      <td>16.442611</td>\n",
       "      <td>-2.727755</td>\n",
       "      <td>1.052329</td>\n",
       "      <td>6.784730</td>\n",
       "      <td>name</td>\n",
       "    </tr>\n",
       "  </tbody>\n",
       "</table>\n",
       "<p>10 rows × 97 columns</p>\n",
       "</div>"
      ],
      "text/plain": [
       "       vec_0     vec_1      vec_2     vec_3      vec_4     vec_5      vec_6  \\\n",
       "0  -1.759996 -8.420905   2.276270 -1.162590   3.844770  2.840463  -0.753364   \n",
       "1   9.556392 -4.143117  10.756072 -1.359590 -12.705752 -3.072276  -5.545203   \n",
       "2   6.220093 -5.076341   2.791780 -5.896989 -14.144672 -1.569555 -10.525382   \n",
       "3   3.689054  0.810873   4.189868 -6.209874 -10.413410  4.986526  -2.821653   \n",
       "4   3.607861  4.336752   6.148700 -5.055354 -12.857260  3.716480   3.296282   \n",
       "5   5.417962 -0.033732   5.287983 -6.812062 -13.363475  1.552076  -5.805094   \n",
       "6   5.659891 -6.080133   7.118525 -4.139761  -9.131500 -1.621250  -6.766408   \n",
       "7  10.605276  1.534121   7.547316 -3.753668  -6.778317 -1.711190  -2.080208   \n",
       "8   6.220093 -5.076341   2.791780 -5.896989 -14.144672 -1.569555 -10.525382   \n",
       "9   5.765600 -5.092359  10.626873 -9.261091  -1.491605  7.644727  -2.877099   \n",
       "\n",
       "      vec_7     vec_8      vec_9  ...     vec_87    vec_88     vec_89  \\\n",
       "0  2.957269  7.470058  10.314044  ...  -5.669944 -1.547058   6.627383   \n",
       "1 -1.486757 -0.434437  13.304896  ...  -3.842945 -2.357140  18.024444   \n",
       "2 -7.483668  2.840772  10.478342  ...   1.345230 -4.289471  14.988673   \n",
       "3 -2.500333  0.190013  11.839452  ...  -8.401937 -1.275353   6.801534   \n",
       "4 -3.805648 -4.982093  15.203674  ... -15.804678  3.829497   8.984690   \n",
       "5 -1.555635 -1.880611  13.349326  ...  -4.537413 -1.163738   8.648477   \n",
       "6 -7.214301  6.137925  15.765751  ...  -0.745241 -3.616721  14.099648   \n",
       "7 -0.661567 -5.063860  11.907645  ...   0.057007  5.451145  14.363190   \n",
       "8 -7.483668  2.840772  10.478342  ...   1.345230 -4.289471  14.988673   \n",
       "9 -2.109652  3.450187  11.730363  ...  -7.019221  1.508247  -0.149125   \n",
       "\n",
       "     vec_90    vec_91     vec_92    vec_93    vec_94    vec_95  intents  \n",
       "0 -3.218885  3.190382   1.464900 -4.386830 -3.636473  1.751198     name  \n",
       "1 -2.828745 -4.346139  18.625840 -6.762220  4.041664  1.481203     name  \n",
       "2 -3.042850  0.525640  24.159926 -2.263616  2.899887  4.113554     name  \n",
       "3 -7.838282  3.462574  21.809196 -2.253262 -1.382785  8.578007     name  \n",
       "4 -2.952568 -0.446337  15.480394  0.490406  0.078620  2.116596     name  \n",
       "5 -5.198575  0.031843  15.966703  0.642479  8.165331  0.568275     name  \n",
       "6 -2.818982  5.383953  15.527542 -3.013386 -1.775828  1.177742     name  \n",
       "7 -1.573192 -4.511716  17.581675 -4.329326  0.226867  2.271344     name  \n",
       "8 -3.042850  0.525640  24.159926 -2.263616  2.899887  4.113554     name  \n",
       "9 -0.155668  4.082173  16.442611 -2.727755  1.052329  6.784730     name  \n",
       "\n",
       "[10 rows x 97 columns]"
      ]
     },
     "execution_count": 5,
     "metadata": {},
     "output_type": "execute_result"
    }
   ],
   "source": [
    "df.head(10)"
   ]
  },
  {
   "cell_type": "code",
   "execution_count": 6,
   "metadata": {},
   "outputs": [],
   "source": [
    "from sklearn.utils import shuffle\n",
    "df = shuffle(df)"
   ]
  },
  {
   "cell_type": "code",
   "execution_count": 7,
   "metadata": {},
   "outputs": [],
   "source": [
    "X = df.iloc[:, :-1].values\n",
    "y = df.iloc[:,-1:].values.ravel()"
   ]
  },
  {
   "cell_type": "code",
   "execution_count": 9,
   "metadata": {},
   "outputs": [],
   "source": [
    "from sklearn.model_selection import train_test_split\n",
    "X_train,X_val,y_train,y_val = train_test_split(X, y, test_size=0.20)"
   ]
  },
  {
   "cell_type": "code",
   "execution_count": 10,
   "metadata": {},
   "outputs": [
    {
     "name": "stdout",
     "output_type": "stream",
     "text": [
      "0.75\n"
     ]
    },
    {
     "name": "stderr",
     "output_type": "stream",
     "text": [
      "/home/vidooly/shubham/nlp_env/lib/python3.5/site-packages/sklearn/linear_model/logistic.py:433: FutureWarning: Default solver will be changed to 'lbfgs' in 0.22. Specify a solver to silence this warning.\n",
      "  FutureWarning)\n",
      "/home/vidooly/shubham/nlp_env/lib/python3.5/site-packages/sklearn/linear_model/logistic.py:460: FutureWarning: Default multi_class will be changed to 'auto' in 0.22. Specify the multi_class option to silence this warning.\n",
      "  \"this warning.\", FutureWarning)\n"
     ]
    }
   ],
   "source": [
    "from sklearn.linear_model import LogisticRegression\n",
    "logit_model = LogisticRegression()\n",
    "logit_model.fit(X_train, y_train)\n",
    "print(logit_model.score(X_val, y_val))\n"
   ]
  },
  {
   "cell_type": "code",
   "execution_count": 11,
   "metadata": {},
   "outputs": [
    {
     "name": "stdout",
     "output_type": "stream",
     "text": [
      "0.8333333333333334\n"
     ]
    }
   ],
   "source": [
    "from sklearn.ensemble import GradientBoostingClassifier\n",
    "gradboost = GradientBoostingClassifier(n_estimators=600, max_depth=30, learning_rate=0.01)\n",
    "gradboost.fit(X_train, y_train)\n",
    "print(gradboost.score(X_val, y_val))\n"
   ]
  },
  {
   "cell_type": "code",
   "execution_count": 11,
   "metadata": {},
   "outputs": [
    {
     "name": "stdout",
     "output_type": "stream",
     "text": [
      "[[ -8.81953237e+00  -8.81157917e+00  -7.96046149e-04  -8.68235072e+00\n",
      "   -8.70572591e+00  -8.71730751e+00]]\n",
      "[u'location']\n"
     ]
    },
    {
     "name": "stderr",
     "output_type": "stream",
     "text": [
      "/usr/local/lib/python2.7/dist-packages/sklearn/utils/validation.py:395: DeprecationWarning: Passing 1d arrays as data is deprecated in 0.17 and will raise ValueError in 0.19. Reshape your data either using X.reshape(-1, 1) if your data has a single feature or X.reshape(1, -1) if it contains a single sample.\n",
      "  DeprecationWarning)\n",
      "/usr/local/lib/python2.7/dist-packages/sklearn/utils/validation.py:395: DeprecationWarning: Passing 1d arrays as data is deprecated in 0.17 and will raise ValueError in 0.19. Reshape your data either using X.reshape(-1, 1) if your data has a single feature or X.reshape(1, -1) if it contains a single sample.\n",
      "  DeprecationWarning)\n"
     ]
    }
   ],
   "source": [
    "sent = 'do you live in the computer'\n",
    "print(gradboost.predict_log_proba(spacy_get_vec(sent)))\n",
    "print(gradboost.predict(spacy_get_vec(sent)))"
   ]
  },
  {
   "cell_type": "code",
   "execution_count": 12,
   "metadata": {},
   "outputs": [
    {
     "name": "stdout",
     "output_type": "stream",
     "text": [
      "[[ -9.17711136e+00  -9.16915816e+00  -9.02683503e+00  -9.04073123e+00\n",
      "   -5.60872124e-04  -9.07488650e+00]]\n",
      "[u'name']\n"
     ]
    },
    {
     "name": "stderr",
     "output_type": "stream",
     "text": [
      "/usr/local/lib/python2.7/dist-packages/sklearn/utils/validation.py:395: DeprecationWarning: Passing 1d arrays as data is deprecated in 0.17 and will raise ValueError in 0.19. Reshape your data either using X.reshape(-1, 1) if your data has a single feature or X.reshape(1, -1) if it contains a single sample.\n",
      "  DeprecationWarning)\n",
      "/usr/local/lib/python2.7/dist-packages/sklearn/utils/validation.py:395: DeprecationWarning: Passing 1d arrays as data is deprecated in 0.17 and will raise ValueError in 0.19. Reshape your data either using X.reshape(-1, 1) if your data has a single feature or X.reshape(1, -1) if it contains a single sample.\n",
      "  DeprecationWarning)\n"
     ]
    }
   ],
   "source": [
    "sent = 'how does your mom call you'\n",
    "print(gradboost.predict_log_proba(spacy_get_vec(sent)))\n",
    "print(gradboost.predict(spacy_get_vec(sent)))"
   ]
  },
  {
   "cell_type": "code",
   "execution_count": 13,
   "metadata": {},
   "outputs": [
    {
     "name": "stdout",
     "output_type": "stream",
     "text": [
      "[[-9.39218666 -9.38423345 -9.24191033 -9.21899022 -1.33852408 -0.30461918]]\n",
      "[u'users_name']\n"
     ]
    },
    {
     "name": "stderr",
     "output_type": "stream",
     "text": [
      "/usr/local/lib/python2.7/dist-packages/sklearn/utils/validation.py:395: DeprecationWarning: Passing 1d arrays as data is deprecated in 0.17 and will raise ValueError in 0.19. Reshape your data either using X.reshape(-1, 1) if your data has a single feature or X.reshape(1, -1) if it contains a single sample.\n",
      "  DeprecationWarning)\n",
      "/usr/local/lib/python2.7/dist-packages/sklearn/utils/validation.py:395: DeprecationWarning: Passing 1d arrays as data is deprecated in 0.17 and will raise ValueError in 0.19. Reshape your data either using X.reshape(-1, 1) if your data has a single feature or X.reshape(1, -1) if it contains a single sample.\n",
      "  DeprecationWarning)\n"
     ]
    }
   ],
   "source": [
    "sent = 'how does my mom call me'\n",
    "print(gradboost.predict_log_proba(spacy_get_vec(sent)))\n",
    "print(gradboost.predict(spacy_get_vec(sent)))"
   ]
  },
  {
   "cell_type": "code",
   "execution_count": 12,
   "metadata": {},
   "outputs": [
    {
     "data": {
      "text/plain": [
       "array(['bot', 'greet_response', 'location', 'marriage', 'name',\n",
       "       'users_name'], dtype=object)"
      ]
     },
     "execution_count": 12,
     "metadata": {},
     "output_type": "execute_result"
    }
   ],
   "source": [
    "gradboost.classes_"
   ]
  },
  {
   "cell_type": "code",
   "execution_count": 23,
   "metadata": {},
   "outputs": [
    {
     "name": "stderr",
     "output_type": "stream",
     "text": [
      "/home/vidooly/shubham/nlp_env/lib/python3.5/site-packages/sklearn/svm/base.py:931: ConvergenceWarning: Liblinear failed to converge, increase the number of iterations.\n",
      "  \"the number of iterations.\", ConvergenceWarning)\n"
     ]
    },
    {
     "data": {
      "text/plain": [
       "LinearSVC(C=0.1, class_weight=None, dual=True, fit_intercept=True,\n",
       "     intercept_scaling=1, loss='squared_hinge', max_iter=1000,\n",
       "     multi_class='ovr', penalty='l2', random_state=None, tol=0.0001,\n",
       "     verbose=0)"
      ]
     },
     "execution_count": 23,
     "metadata": {},
     "output_type": "execute_result"
    }
   ],
   "source": [
    "from sklearn.svm import LinearSVC\n",
    "svcmodel=LinearSVC(multi_class='ovr',C=0.1)\n",
    "svcmodel.fit(X_train,y_train)"
   ]
  },
  {
   "cell_type": "code",
   "execution_count": 24,
   "metadata": {},
   "outputs": [
    {
     "data": {
      "text/plain": [
       "0.75"
      ]
     },
     "execution_count": 24,
     "metadata": {},
     "output_type": "execute_result"
    }
   ],
   "source": [
    "svcmodel.score(X_val,y_val)"
   ]
  },
  {
   "cell_type": "code",
   "execution_count": 17,
   "metadata": {},
   "outputs": [
    {
     "name": "stdout",
     "output_type": "stream",
     "text": [
      "[u'location']\n"
     ]
    },
    {
     "name": "stderr",
     "output_type": "stream",
     "text": [
      "/usr/local/lib/python2.7/dist-packages/sklearn/utils/validation.py:395: DeprecationWarning: Passing 1d arrays as data is deprecated in 0.17 and will raise ValueError in 0.19. Reshape your data either using X.reshape(-1, 1) if your data has a single feature or X.reshape(1, -1) if it contains a single sample.\n",
      "  DeprecationWarning)\n"
     ]
    }
   ],
   "source": [
    "sent = 'do you live in the computer'\n",
    "#print(svcmodel.predict_log_proba(spacy_get_vec(sent)))\n",
    "print(svcmodel.predict(spacy_get_vec(sent)))"
   ]
  },
  {
   "cell_type": "code",
   "execution_count": 18,
   "metadata": {},
   "outputs": [
    {
     "name": "stderr",
     "output_type": "stream",
     "text": [
      "/usr/local/lib/python2.7/dist-packages/sklearn/utils/validation.py:395: DeprecationWarning: Passing 1d arrays as data is deprecated in 0.17 and will raise ValueError in 0.19. Reshape your data either using X.reshape(-1, 1) if your data has a single feature or X.reshape(1, -1) if it contains a single sample.\n",
      "  DeprecationWarning)\n"
     ]
    },
    {
     "name": "stdout",
     "output_type": "stream",
     "text": [
      "[[ -9.17711136e+00  -9.16915816e+00  -9.02683503e+00  -9.04073123e+00\n",
      "   -5.60872124e-04  -9.07488650e+00]]\n",
      "[u'name']\n"
     ]
    },
    {
     "name": "stderr",
     "output_type": "stream",
     "text": [
      "/usr/local/lib/python2.7/dist-packages/sklearn/utils/validation.py:395: DeprecationWarning: Passing 1d arrays as data is deprecated in 0.17 and will raise ValueError in 0.19. Reshape your data either using X.reshape(-1, 1) if your data has a single feature or X.reshape(1, -1) if it contains a single sample.\n",
      "  DeprecationWarning)\n"
     ]
    }
   ],
   "source": [
    "sent = 'how does your mom call you'\n",
    "print(gradboost.predict_log_proba(spacy_get_vec(sent)))\n",
    "print(gradboost.predict(spacy_get_vec(sent)))"
   ]
  },
  {
   "cell_type": "code",
   "execution_count": 15,
   "metadata": {},
   "outputs": [
    {
     "data": {
      "text/plain": [
       "MultinomialNB(alpha=1.7, class_prior=None, fit_prior=True)"
      ]
     },
     "execution_count": 15,
     "metadata": {},
     "output_type": "execute_result"
    }
   ],
   "source": [
    "from sklearn.naive_bayes import MultinomialNB\n",
    "mnb= MultinomialNB(alpha=1.7)\n",
    "mnb.fit(abs(X_train), y_train)"
   ]
  },
  {
   "cell_type": "code",
   "execution_count": 16,
   "metadata": {},
   "outputs": [
    {
     "data": {
      "text/plain": [
       "0.6666666666666666"
      ]
     },
     "execution_count": 16,
     "metadata": {},
     "output_type": "execute_result"
    }
   ],
   "source": [
    "mnb.score(abs(X_val), y_val)"
   ]
  },
  {
   "cell_type": "code",
   "execution_count": 25,
   "metadata": {},
   "outputs": [
    {
     "data": {
      "text/plain": [
       "GradientBoostingClassifier(criterion='friedman_mse', init=None,\n",
       "              learning_rate=0.01, loss='deviance', max_depth=30,\n",
       "              max_features=None, max_leaf_nodes=None,\n",
       "              min_impurity_decrease=0.0, min_impurity_split=None,\n",
       "              min_samples_leaf=1, min_samples_split=2,\n",
       "              min_weight_fraction_leaf=0.0, n_estimators=600,\n",
       "              n_iter_no_change=None, presort='auto', random_state=None,\n",
       "              subsample=1.0, tol=0.0001, validation_fraction=0.1,\n",
       "              verbose=0, warm_start=False)"
      ]
     },
     "execution_count": 25,
     "metadata": {},
     "output_type": "execute_result"
    }
   ],
   "source": [
    "gradboost.fit(X,y)"
   ]
  },
  {
   "cell_type": "code",
   "execution_count": 26,
   "metadata": {},
   "outputs": [
    {
     "data": {
      "text/plain": [
       "['question.pkl']"
      ]
     },
     "execution_count": 26,
     "metadata": {},
     "output_type": "execute_result"
    }
   ],
   "source": [
    "from sklearn.externals import joblib\n",
    "joblib.dump(gradboost, 'question.pkl')"
   ]
  },
  {
   "cell_type": "code",
   "execution_count": null,
   "metadata": {
    "collapsed": true
   },
   "outputs": [],
   "source": []
  },
  {
   "cell_type": "code",
   "execution_count": null,
   "metadata": {
    "collapsed": true
   },
   "outputs": [],
   "source": []
  },
  {
   "cell_type": "code",
   "execution_count": null,
   "metadata": {
    "collapsed": true
   },
   "outputs": [],
   "source": []
  }
 ],
 "metadata": {
  "kernelspec": {
   "display_name": "Python 3",
   "language": "python",
   "name": "python3"
  },
  "language_info": {
   "codemirror_mode": {
    "name": "ipython",
    "version": 3
   },
   "file_extension": ".py",
   "mimetype": "text/x-python",
   "name": "python",
   "nbconvert_exporter": "python",
   "pygments_lexer": "ipython3",
   "version": "3.5.2"
  }
 },
 "nbformat": 4,
 "nbformat_minor": 1
}
