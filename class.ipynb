{
 "cells": [
  {
   "cell_type": "code",
   "execution_count": 2,
   "metadata": {},
   "outputs": [],
   "source": [
    "import spacy\n",
    "import numpy as np\n",
    "import pandas as pd\n",
    "from stopwords import ENGLISH_STOP_WORDS\n",
    "# from __future__ import unicode_literals\n",
    "# import numba\n",
    "import warnings\n",
    "\n",
    "warnings.filterwarnings(\"ignore\", category=DeprecationWarning)\n"
   ]
  },
  {
   "cell_type": "code",
   "execution_count": 3,
   "metadata": {},
   "outputs": [],
   "source": [
    "en_nlp = spacy.load('en')"
   ]
  },
  {
   "cell_type": "code",
   "execution_count": 4,
   "metadata": {},
   "outputs": [],
   "source": [
    "def spacy_get_vec(sentence):\n",
    "    vec = np.zeros(96)\n",
    "    doc = en_nlp((sentence))\n",
    "    for word in doc:\n",
    "        if word.lower_ in ENGLISH_STOP_WORDS:\n",
    "            continue\n",
    "        vec += word.vector\n",
    "    return vec"
   ]
  },
  {
   "cell_type": "code",
   "execution_count": 5,
   "metadata": {},
   "outputs": [
    {
     "data": {
      "text/plain": [
       "<151x125 sparse matrix of type '<class 'numpy.float64'>'\n",
       "\twith 248 stored elements in Compressed Sparse Row format>"
      ]
     },
     "execution_count": 5,
     "metadata": {},
     "output_type": "execute_result"
    }
   ],
   "source": [
    "from sklearn.feature_extraction.text import TfidfVectorizer\n",
    "lines = open('./class.txt').readlines()\n",
    "vectorizer = TfidfVectorizer(stop_words=ENGLISH_STOP_WORDS)\n",
    "vectorizer.fit_transform([''.join(line.split(',')[0]) for line in lines])\n"
   ]
  },
  {
   "cell_type": "code",
   "execution_count": 6,
   "metadata": {},
   "outputs": [],
   "source": [
    "def get_idf(sentence):\n",
    "    score = 1.0\n",
    "    for word in sentence.split():\n",
    "        if word[-1] == '\\n' or word[-1] == ',' or word[-1] == '.' or word[-1] == ['!']:\n",
    "            word = word[:-1]\n",
    "        if word not in vectorizer.vocabulary_:\n",
    "            continue\n",
    "        index = vectorizer.vocabulary_[word]\n",
    "        score = score / vectorizer.idf_[index]\n",
    "    return score"
   ]
  },
  {
   "cell_type": "code",
   "execution_count": 9,
   "metadata": {},
   "outputs": [],
   "source": [
    "\n",
    "vecs = []\n",
    "intents = []\n",
    "idfs = []\n",
    "for line in lines:\n",
    "    tokens = line.split(',')\n",
    "    sentence = tokens[0]\n",
    "    intent = tokens[1]\n",
    "    if intent[-1] == '\\n':\n",
    "        intent = intent[:-1]\n",
    "    vecs.append(spacy_get_vec(sentence))\n",
    "    intents.append(intent)\n",
    "    #idfs.append(get_idf(sentence))\n",
    "\n",
    "df = pd.DataFrame(vecs, columns=['vec_%d' % i for i in range(96)])\n",
    "#df['idf'] = idfs\n",
    "df['intents'] = intents\n",
    "df.intents = df.intents.astype('category')"
   ]
  },
  {
   "cell_type": "code",
   "execution_count": 10,
   "metadata": {},
   "outputs": [],
   "source": [
    "from sklearn.utils import shuffle\n",
    "df = shuffle(df)"
   ]
  },
  {
   "cell_type": "code",
   "execution_count": 11,
   "metadata": {
    "scrolled": true
   },
   "outputs": [
    {
     "data": {
      "text/html": [
       "<div>\n",
       "<style scoped>\n",
       "    .dataframe tbody tr th:only-of-type {\n",
       "        vertical-align: middle;\n",
       "    }\n",
       "\n",
       "    .dataframe tbody tr th {\n",
       "        vertical-align: top;\n",
       "    }\n",
       "\n",
       "    .dataframe thead th {\n",
       "        text-align: right;\n",
       "    }\n",
       "</style>\n",
       "<table border=\"1\" class=\"dataframe\">\n",
       "  <thead>\n",
       "    <tr style=\"text-align: right;\">\n",
       "      <th></th>\n",
       "      <th>vec_0</th>\n",
       "      <th>vec_1</th>\n",
       "      <th>vec_2</th>\n",
       "      <th>vec_3</th>\n",
       "      <th>vec_4</th>\n",
       "      <th>vec_5</th>\n",
       "      <th>vec_6</th>\n",
       "      <th>vec_7</th>\n",
       "      <th>vec_8</th>\n",
       "      <th>vec_9</th>\n",
       "      <th>...</th>\n",
       "      <th>vec_87</th>\n",
       "      <th>vec_88</th>\n",
       "      <th>vec_89</th>\n",
       "      <th>vec_90</th>\n",
       "      <th>vec_91</th>\n",
       "      <th>vec_92</th>\n",
       "      <th>vec_93</th>\n",
       "      <th>vec_94</th>\n",
       "      <th>vec_95</th>\n",
       "      <th>intents</th>\n",
       "    </tr>\n",
       "  </thead>\n",
       "  <tbody>\n",
       "    <tr>\n",
       "      <th>143</th>\n",
       "      <td>-6.307271</td>\n",
       "      <td>0.066690</td>\n",
       "      <td>-2.986557</td>\n",
       "      <td>-5.895083</td>\n",
       "      <td>-4.020977</td>\n",
       "      <td>7.058790</td>\n",
       "      <td>6.794763</td>\n",
       "      <td>4.620492</td>\n",
       "      <td>8.125482</td>\n",
       "      <td>-3.799870</td>\n",
       "      <td>...</td>\n",
       "      <td>1.409871</td>\n",
       "      <td>1.073150</td>\n",
       "      <td>-0.526352</td>\n",
       "      <td>3.428928</td>\n",
       "      <td>-2.789751</td>\n",
       "      <td>-2.929514</td>\n",
       "      <td>-0.418538</td>\n",
       "      <td>1.376534</td>\n",
       "      <td>-0.985598</td>\n",
       "      <td>non_intent</td>\n",
       "    </tr>\n",
       "    <tr>\n",
       "      <th>125</th>\n",
       "      <td>-2.927856</td>\n",
       "      <td>2.094635</td>\n",
       "      <td>-2.404032</td>\n",
       "      <td>-4.694757</td>\n",
       "      <td>0.919000</td>\n",
       "      <td>1.596371</td>\n",
       "      <td>10.053276</td>\n",
       "      <td>1.889114</td>\n",
       "      <td>4.804279</td>\n",
       "      <td>-3.741004</td>\n",
       "      <td>...</td>\n",
       "      <td>1.967579</td>\n",
       "      <td>0.396301</td>\n",
       "      <td>-0.783363</td>\n",
       "      <td>3.338813</td>\n",
       "      <td>-3.391479</td>\n",
       "      <td>-3.104036</td>\n",
       "      <td>0.769581</td>\n",
       "      <td>-0.551365</td>\n",
       "      <td>-1.066860</td>\n",
       "      <td>non_intent</td>\n",
       "    </tr>\n",
       "    <tr>\n",
       "      <th>135</th>\n",
       "      <td>0.000000</td>\n",
       "      <td>0.000000</td>\n",
       "      <td>0.000000</td>\n",
       "      <td>0.000000</td>\n",
       "      <td>0.000000</td>\n",
       "      <td>0.000000</td>\n",
       "      <td>0.000000</td>\n",
       "      <td>0.000000</td>\n",
       "      <td>0.000000</td>\n",
       "      <td>0.000000</td>\n",
       "      <td>...</td>\n",
       "      <td>0.000000</td>\n",
       "      <td>0.000000</td>\n",
       "      <td>0.000000</td>\n",
       "      <td>0.000000</td>\n",
       "      <td>0.000000</td>\n",
       "      <td>0.000000</td>\n",
       "      <td>0.000000</td>\n",
       "      <td>0.000000</td>\n",
       "      <td>0.000000</td>\n",
       "      <td>non_intent</td>\n",
       "    </tr>\n",
       "    <tr>\n",
       "      <th>66</th>\n",
       "      <td>4.907976</td>\n",
       "      <td>-0.578859</td>\n",
       "      <td>3.453419</td>\n",
       "      <td>-5.344680</td>\n",
       "      <td>3.191152</td>\n",
       "      <td>0.040947</td>\n",
       "      <td>7.186928</td>\n",
       "      <td>-3.454149</td>\n",
       "      <td>2.563387</td>\n",
       "      <td>3.893679</td>\n",
       "      <td>...</td>\n",
       "      <td>2.460749</td>\n",
       "      <td>3.392120</td>\n",
       "      <td>-2.898923</td>\n",
       "      <td>-1.820098</td>\n",
       "      <td>-1.349198</td>\n",
       "      <td>-1.193615</td>\n",
       "      <td>0.248984</td>\n",
       "      <td>-3.875893</td>\n",
       "      <td>14.987288</td>\n",
       "      <td>non_intent</td>\n",
       "    </tr>\n",
       "    <tr>\n",
       "      <th>84</th>\n",
       "      <td>-1.801312</td>\n",
       "      <td>-0.607008</td>\n",
       "      <td>-2.832177</td>\n",
       "      <td>-3.968141</td>\n",
       "      <td>4.030876</td>\n",
       "      <td>5.043756</td>\n",
       "      <td>4.556532</td>\n",
       "      <td>1.085230</td>\n",
       "      <td>-2.143206</td>\n",
       "      <td>1.359876</td>\n",
       "      <td>...</td>\n",
       "      <td>3.218234</td>\n",
       "      <td>1.229960</td>\n",
       "      <td>-1.494867</td>\n",
       "      <td>2.468833</td>\n",
       "      <td>0.324141</td>\n",
       "      <td>-1.926399</td>\n",
       "      <td>-1.394034</td>\n",
       "      <td>-2.152557</td>\n",
       "      <td>-1.573624</td>\n",
       "      <td>non_intent</td>\n",
       "    </tr>\n",
       "  </tbody>\n",
       "</table>\n",
       "<p>5 rows × 97 columns</p>\n",
       "</div>"
      ],
      "text/plain": [
       "        vec_0     vec_1     vec_2     vec_3     vec_4     vec_5      vec_6  \\\n",
       "143 -6.307271  0.066690 -2.986557 -5.895083 -4.020977  7.058790   6.794763   \n",
       "125 -2.927856  2.094635 -2.404032 -4.694757  0.919000  1.596371  10.053276   \n",
       "135  0.000000  0.000000  0.000000  0.000000  0.000000  0.000000   0.000000   \n",
       "66   4.907976 -0.578859  3.453419 -5.344680  3.191152  0.040947   7.186928   \n",
       "84  -1.801312 -0.607008 -2.832177 -3.968141  4.030876  5.043756   4.556532   \n",
       "\n",
       "        vec_7     vec_8     vec_9  ...    vec_87    vec_88    vec_89  \\\n",
       "143  4.620492  8.125482 -3.799870  ...  1.409871  1.073150 -0.526352   \n",
       "125  1.889114  4.804279 -3.741004  ...  1.967579  0.396301 -0.783363   \n",
       "135  0.000000  0.000000  0.000000  ...  0.000000  0.000000  0.000000   \n",
       "66  -3.454149  2.563387  3.893679  ...  2.460749  3.392120 -2.898923   \n",
       "84   1.085230 -2.143206  1.359876  ...  3.218234  1.229960 -1.494867   \n",
       "\n",
       "       vec_90    vec_91    vec_92    vec_93    vec_94     vec_95     intents  \n",
       "143  3.428928 -2.789751 -2.929514 -0.418538  1.376534  -0.985598  non_intent  \n",
       "125  3.338813 -3.391479 -3.104036  0.769581 -0.551365  -1.066860  non_intent  \n",
       "135  0.000000  0.000000  0.000000  0.000000  0.000000   0.000000  non_intent  \n",
       "66  -1.820098 -1.349198 -1.193615  0.248984 -3.875893  14.987288  non_intent  \n",
       "84   2.468833  0.324141 -1.926399 -1.394034 -2.152557  -1.573624  non_intent  \n",
       "\n",
       "[5 rows x 97 columns]"
      ]
     },
     "execution_count": 11,
     "metadata": {},
     "output_type": "execute_result"
    }
   ],
   "source": [
    "df.head()"
   ]
  },
  {
   "cell_type": "code",
   "execution_count": 12,
   "metadata": {},
   "outputs": [],
   "source": [
    "X = df.iloc[:, :-1].values\n",
    "y = df.iloc[:,-1:].values.ravel()"
   ]
  },
  {
   "cell_type": "code",
   "execution_count": 15,
   "metadata": {},
   "outputs": [],
   "source": [
    "from sklearn.model_selection import train_test_split\n",
    "X_train,X_val,y_train,y_val = train_test_split(X, y, test_size=0.20)"
   ]
  },
  {
   "cell_type": "code",
   "execution_count": 16,
   "metadata": {},
   "outputs": [
    {
     "name": "stderr",
     "output_type": "stream",
     "text": [
      "/home/vidooly/shubham/nlp_env/lib/python3.5/site-packages/sklearn/linear_model/logistic.py:433: FutureWarning: Default solver will be changed to 'lbfgs' in 0.22. Specify a solver to silence this warning.\n",
      "  FutureWarning)\n"
     ]
    },
    {
     "data": {
      "text/plain": [
       "LogisticRegression(C=5.0, class_weight={'non_intent': 0.8, 'intent': 1.2},\n",
       "          dual=False, fit_intercept=True, intercept_scaling=1,\n",
       "          max_iter=100, multi_class='warn', n_jobs=None, penalty='l2',\n",
       "          random_state=None, solver='warn', tol=0.0001, verbose=0,\n",
       "          warm_start=False)"
      ]
     },
     "execution_count": 16,
     "metadata": {},
     "output_type": "execute_result"
    }
   ],
   "source": [
    "from sklearn.linear_model import LogisticRegression\n",
    "logit_model = LogisticRegression(C=5.0, class_weight={'intent': 1.2, 'non_intent': 0.8})\n",
    "logit_model.fit(X_train, y_train)"
   ]
  },
  {
   "cell_type": "code",
   "execution_count": 17,
   "metadata": {},
   "outputs": [
    {
     "name": "stdout",
     "output_type": "stream",
     "text": [
      "0.9666666666666667\n",
      "0.8064516129032258\n"
     ]
    }
   ],
   "source": [
    "print(logit_model.score(X_train, y_train))\n",
    "print(logit_model.score(X_val, y_val))"
   ]
  },
  {
   "cell_type": "code",
   "execution_count": 19,
   "metadata": {},
   "outputs": [
    {
     "data": {
      "text/plain": [
       "array([[5.05908415e-07, 9.99999494e-01]])"
      ]
     },
     "execution_count": 19,
     "metadata": {},
     "output_type": "execute_result"
    }
   ],
   "source": [
    "sent = 'it looks cloudy'\n",
    "#gradboost.predict_proba(np.append(spacy_get_vec(sent), get_idf(sent)))\n",
    "logit_model.predict_proba([spacy_get_vec(sent)])"
   ]
  },
  {
   "cell_type": "code",
   "execution_count": 20,
   "metadata": {},
   "outputs": [],
   "source": [
    "from sklearn.ensemble import GradientBoostingClassifier\n",
    "gradboost = GradientBoostingClassifier(n_estimators=500, max_depth=25, max_features='log2')"
   ]
  },
  {
   "cell_type": "code",
   "execution_count": 21,
   "metadata": {},
   "outputs": [
    {
     "name": "stdout",
     "output_type": "stream",
     "text": [
      "0.9666666666666667\n",
      "0.9032258064516129\n"
     ]
    }
   ],
   "source": [
    "gradboost.fit(X_train, y_train)\n",
    "print(gradboost.score(X_train, y_train))\n",
    "print(gradboost.score(X_val, y_val))"
   ]
  },
  {
   "cell_type": "code",
   "execution_count": 59,
   "metadata": {},
   "outputs": [
    {
     "data": {
      "text/plain": [
       "array([[  1.54143365e-12,   1.00000000e+00]])"
      ]
     },
     "execution_count": 59,
     "metadata": {},
     "output_type": "execute_result"
    }
   ],
   "source": [
    "sent = 'it looks cloudy'\n",
    "#gradboost.predict_proba(np.append(spacy_get_vec(sent), get_idf(sent)))\n",
    "gradboost.predict_proba(spacy_get_vec(sent))"
   ]
  },
  {
   "cell_type": "code",
   "execution_count": 23,
   "metadata": {},
   "outputs": [
    {
     "data": {
      "text/plain": [
       "array(['intent', 'non_intent'], dtype=object)"
      ]
     },
     "execution_count": 23,
     "metadata": {},
     "output_type": "execute_result"
    }
   ],
   "source": [
    "gradboost.classes_"
   ]
  },
  {
   "cell_type": "code",
   "execution_count": 22,
   "metadata": {},
   "outputs": [
    {
     "data": {
      "text/plain": [
       "SVC(C=1.0, cache_size=200, class_weight={'non_intent': 1.2, 'intent': 0.8},\n",
       "  coef0=0.0, decision_function_shape='ovr', degree=2,\n",
       "  gamma='auto_deprecated', kernel='linear', max_iter=-1, probability=True,\n",
       "  random_state=None, shrinking=True, tol=0.001, verbose=False)"
      ]
     },
     "execution_count": 22,
     "metadata": {},
     "output_type": "execute_result"
    }
   ],
   "source": [
    "from sklearn.svm import SVC\n",
    "svc = SVC(kernel='linear', degree=2, probability=True, class_weight={'intent':0.8,'non_intent':1.2})\n",
    "svc.fit(X_train, y_train)"
   ]
  },
  {
   "cell_type": "code",
   "execution_count": 24,
   "metadata": {},
   "outputs": [
    {
     "data": {
      "text/plain": [
       "0.8064516129032258"
      ]
     },
     "execution_count": 24,
     "metadata": {},
     "output_type": "execute_result"
    }
   ],
   "source": [
    "svc.score(X_val,y_val)"
   ]
  },
  {
   "cell_type": "code",
   "execution_count": 25,
   "metadata": {},
   "outputs": [
    {
     "data": {
      "text/plain": [
       "GradientBoostingClassifier(criterion='friedman_mse', init=None,\n",
       "              learning_rate=0.1, loss='deviance', max_depth=25,\n",
       "              max_features='log2', max_leaf_nodes=None,\n",
       "              min_impurity_decrease=0.0, min_impurity_split=None,\n",
       "              min_samples_leaf=1, min_samples_split=2,\n",
       "              min_weight_fraction_leaf=0.0, n_estimators=500,\n",
       "              n_iter_no_change=None, presort='auto', random_state=None,\n",
       "              subsample=1.0, tol=0.0001, validation_fraction=0.1,\n",
       "              verbose=0, warm_start=False)"
      ]
     },
     "execution_count": 25,
     "metadata": {},
     "output_type": "execute_result"
    }
   ],
   "source": [
    "gradboost.fit(X, y)"
   ]
  },
  {
   "cell_type": "code",
   "execution_count": 26,
   "metadata": {},
   "outputs": [
    {
     "data": {
      "text/plain": [
       "['class.pkl']"
      ]
     },
     "execution_count": 26,
     "metadata": {},
     "output_type": "execute_result"
    }
   ],
   "source": [
    "from sklearn.externals import joblib\n",
    "joblib.dump(gradboost, 'class.pkl')"
   ]
  },
  {
   "cell_type": "code",
   "execution_count": null,
   "metadata": {
    "collapsed": true
   },
   "outputs": [],
   "source": []
  },
  {
   "cell_type": "code",
   "execution_count": null,
   "metadata": {
    "collapsed": true
   },
   "outputs": [],
   "source": []
  },
  {
   "cell_type": "code",
   "execution_count": null,
   "metadata": {
    "collapsed": true
   },
   "outputs": [],
   "source": []
  },
  {
   "cell_type": "code",
   "execution_count": null,
   "metadata": {
    "collapsed": true
   },
   "outputs": [],
   "source": []
  },
  {
   "cell_type": "code",
   "execution_count": null,
   "metadata": {
    "collapsed": true
   },
   "outputs": [],
   "source": []
  },
  {
   "cell_type": "code",
   "execution_count": null,
   "metadata": {
    "collapsed": true
   },
   "outputs": [],
   "source": []
  }
 ],
 "metadata": {
  "kernelspec": {
   "display_name": "Python 3",
   "language": "python",
   "name": "python3"
  },
  "language_info": {
   "codemirror_mode": {
    "name": "ipython",
    "version": 3
   },
   "file_extension": ".py",
   "mimetype": "text/x-python",
   "name": "python",
   "nbconvert_exporter": "python",
   "pygments_lexer": "ipython3",
   "version": "3.5.2"
  }
 },
 "nbformat": 4,
 "nbformat_minor": 1
}
